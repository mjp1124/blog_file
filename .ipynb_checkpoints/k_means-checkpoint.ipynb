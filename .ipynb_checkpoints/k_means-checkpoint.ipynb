{
 "cells": [
  {
   "cell_type": "markdown",
   "metadata": {},
   "source": [
    "## 聚类分析中常用的距离\n",
    "### 欧氏距离_有序属性(连续属性)\n",
    "* 在m维空间中两个点之间的真实距离，或者向量的自然长度（即该点到原点的距离）\n",
    "* 2维空间,坐标(x1, y1)与坐标(x2, y2)的欧氏距离与自然长度\n",
    "    * ρ=sqrt((x2-x1)²+(y2-y1)²); \n",
    "    * |X|=sqrt（x2²+y2²）\n",
    "* 3维空间,坐标(x1, y1,z1)与坐标(x2, y2,z2)的欧氏距离与自然长度\n",
    "    * ρ=sqrt((x2-x1)²+(y2-y1)²+(z2-z1)²);\n",
    "    * |X|=sqrt（x2²+y2²+z2²）\n",
    "* n维空间\n",
    "    * 两个点A=(a[1]，a[2]，…，a[n])和B=(b[1]，b[2]，…，b[n])的欧氏距离\n",
    "    * ρ(A，B) =sqrt[ ∑( a[i] - b[i] )² ] (i = 1，2，…，n)\n",
    "    * 向量 x=(x[1]，x[2]，…，x[n]) 的自然长度\n",
    "    * |x| = sqrt(x[1]²+ x[2]²+ … + x[n]²)"
   ]
  },
  {
   "cell_type": "markdown",
   "metadata": {},
   "source": [
    "### 曼哈顿距离_有序属性(连续属性)\n",
    "* 用以标明两个点在标准坐标系上的绝对轴距总和\n",
    "* 2维空间,两个点（x1, y1），（x2, y2）的曼哈顿距离\n",
    "    * d = |x1-x2|+|y1-y2|\n",
    "* n维空间,两个点A=(a[1]，a[2]，…，a[n])和B=(b[1]，b[2]，…，b[n])的曼哈顿距离\n",
    "    * d = ∑(a[i] - b[i]) (i = 1，2，…，n)"
   ]
  },
  {
   "cell_type": "markdown",
   "metadata": {},
   "source": [
    "* 距离举例图片"
   ]
  },
  {
   "cell_type": "markdown",
   "metadata": {},
   "source": [
    "### 闵可夫斯基距离_有序属性(连续属性)\n",
    "* 闵氏距离是对多个距离度量公式的概括性的表述\n",
    "* n维空间,两个点A=(a[1]，a[2]，…，a[n])和B=(b[1]，b[2]，…，b[n])的闵可夫斯基距离\n",
    "   * d = (∑(a[i] - b[i])^p)^(1/p) (i = 1，2，…，n)\n",
    "* 当p=2时，即为欧氏距离\n",
    "* 当p=1时，即为曼哈顿距离\n",
    "\n",
    "### VDM距离_无序属性（离散属性）\n",
    "\n",
    "* VDM距离是通过计算在某个属性上某种取值的样本数量占比来计算距离\n",
    "\n",
    "* Mu,a表示在属性u上取值为a的样本数，Mu,a,i表示在第i个样本簇中在属性u上取值为a的样本数,k为样本簇数，则属性u上两个离散值a与b的VDM距离\n",
    "    * d = ∑((Mu,a,i/Mu,a - Mu,b,i/Mu,b)^p )(i = 1，2，…，k)"
   ]
  },
  {
   "cell_type": "code",
   "execution_count": 1,
   "metadata": {},
   "outputs": [
    {
     "data": {
      "text/html": [
       "<div>\n",
       "<table border=\"1\" class=\"dataframe\">\n",
       "  <thead>\n",
       "    <tr style=\"text-align: right;\">\n",
       "      <th></th>\n",
       "      <th>a</th>\n",
       "      <th>b</th>\n",
       "      <th>c</th>\n",
       "      <th>簇</th>\n",
       "    </tr>\n",
       "  </thead>\n",
       "  <tbody>\n",
       "    <tr>\n",
       "      <th>0</th>\n",
       "      <td>100</td>\n",
       "      <td>200</td>\n",
       "      <td>300</td>\n",
       "      <td>1</td>\n",
       "    </tr>\n",
       "    <tr>\n",
       "      <th>1</th>\n",
       "      <td>200</td>\n",
       "      <td>300</td>\n",
       "      <td>400</td>\n",
       "      <td>2</td>\n",
       "    </tr>\n",
       "    <tr>\n",
       "      <th>2</th>\n",
       "      <td>300</td>\n",
       "      <td>400</td>\n",
       "      <td>500</td>\n",
       "      <td>3</td>\n",
       "    </tr>\n",
       "  </tbody>\n",
       "</table>\n",
       "</div>"
      ],
      "text/plain": [
       "     a    b    c  簇\n",
       "0  100  200  300  1\n",
       "1  200  300  400  2\n",
       "2  300  400  500  3"
      ]
     },
     "execution_count": 1,
     "metadata": {},
     "output_type": "execute_result"
    }
   ],
   "source": [
    "from pandas import DataFrame\n",
    "import pandas as pd\n",
    "import numpy as np\n",
    "\n",
    "df = pd.DataFrame({'簇':[1,2,3],'a':[100,200,300],'b':[200,300,400],'c':[300,400,500],})\n",
    "df"
   ]
  },
  {
   "cell_type": "markdown",
   "metadata": {},
   "source": [
    "p=2时，VDM距离如下\n",
    "\n",
    "a,b的距离："
   ]
  },
  {
   "cell_type": "code",
   "execution_count": 2,
   "metadata": {},
   "outputs": [
    {
     "data": {
      "text/plain": [
       "0.006172839506172843"
      ]
     },
     "execution_count": 2,
     "metadata": {},
     "output_type": "execute_result"
    }
   ],
   "source": [
    "np.square(100/600-200/900)+np.square(200/600-300/900)+np.square(300/600-400/900)"
   ]
  },
  {
   "cell_type": "markdown",
   "metadata": {},
   "source": [
    "b,c的距离"
   ]
  },
  {
   "cell_type": "code",
   "execution_count": 3,
   "metadata": {},
   "outputs": [
    {
     "data": {
      "text/plain": [
       "0.001543209876543208"
      ]
     },
     "execution_count": 3,
     "metadata": {},
     "output_type": "execute_result"
    }
   ],
   "source": [
    "np.square(300/1200-200/900)+np.square(400/1200-300/900)+np.square(500/1200-400/900)"
   ]
  },
  {
   "cell_type": "markdown",
   "metadata": {},
   "source": [
    "a,c的距离"
   ]
  },
  {
   "cell_type": "code",
   "execution_count": 29,
   "metadata": {},
   "outputs": [
    {
     "data": {
      "text/plain": [
       "0.013888888888888888"
      ]
     },
     "execution_count": 29,
     "metadata": {},
     "output_type": "execute_result"
    }
   ],
   "source": [
    "np.square(100/600-300/1200)+np.square(200/600-400/1200)+np.square(300/600-500/1200)"
   ]
  },
  {
   "cell_type": "markdown",
   "metadata": {},
   "source": [
    "## 混合使用\n",
    "* 当样本中既包含有序变量有包含无序变量时，可将闵可夫斯基距离与VDM距离混合使用"
   ]
  },
  {
   "cell_type": "markdown",
   "metadata": {},
   "source": [
    "* 混合距离图片"
   ]
  },
  {
   "cell_type": "markdown",
   "metadata": {},
   "source": [
    "## 聚类前准备工作－归一化\n",
    "* 聚类算法在计算距离前，为防止某些数据偏差过大问题，通常会先归一化\n",
    "* 归一化方法\n",
    "    * Standardization（zero_score）: 量化后的特征服从标准正态分布，将分布在[-1, 1]区间\n",
    "        * (x-u)/std,其中u为向量均值，std为标准差\n",
    "    * Min-Max Scaling： : 量化后的特征分布在[0, 1]区间\n",
    "        * （x-min）/(max-min)"
   ]
  },
  {
   "cell_type": "code",
   "execution_count": 111,
   "metadata": {},
   "outputs": [],
   "source": [
    "def normalization(df,var,method='min-max'):\n",
    "    x = df[var]\n",
    "    new_var = var + '_norm'\n",
    "    if method == 'min-max':\n",
    "        x_min = min(x)\n",
    "        x_max = max(x)\n",
    "        d = x_max - x_min\n",
    "        df[new_var] = [(i - x_min)*1.0/d for i in x]\n",
    "        del df[var]\n",
    "    elif method == 'zero-score':\n",
    "        x_mean = np.mean(x)\n",
    "        x_std = np.std(x)\n",
    "        df[new_var] = [(i - x_mean)*1.0 / x_std for i in x]\n",
    "        del df[var]\n",
    "    else:\n",
    "        print('请输入归一化方法')"
   ]
  },
  {
   "cell_type": "markdown",
   "metadata": {},
   "source": [
    "## k-means算法\n",
    "* 聚类算法是一种无监督的学习算法，通过对无标记训练样本的学习，将样本划分为若干不相交的样本簇\n",
    "* k_means算法基本原理\n",
    "    * 设定k值，并随机选取k个样本作为初始均值向量（质心）\n",
    "    * 将剩下的样本逐一与上述k各样本进行距离计算，并合并入最小距离的集合中，首次生成簇，并计算每一簇的均值向量\n",
    "    * 以新的均值向量作为初始均值向量，重复上述过程，直至样本簇不再变化，得到最终的簇划分\n",
    "\n",
    "### 1、确定k值\n",
    "* 根据业务设定\n",
    "* 肘部法则(并不常用）\n",
    "    * 肘部法则：成本函数最小化\n",
    "    * 成本函数是各个类畸变程度之和。每个类的畸变程度等于该类重心与其内部成员位置距离的平方和"
   ]
  },
  {
   "cell_type": "code",
   "execution_count": 98,
   "metadata": {
    "collapsed": true
   },
   "outputs": [],
   "source": [
    "import random\n",
    "import numpy as np\n",
    "import matplotlib\n",
    "import matplotlib.pyplot as plt\n",
    "from matplotlib.ticker import FuncFormatter\n",
    "import seaborn\n",
    "plt.rcParams['font.family']=\"SimHei\"#显示中文字体\n",
    "from IPython.core.display import HTML,display\n",
    "from pandas import DataFrame\n",
    "import pandas as pd\n",
    "from sklearn.cluster import KMeans\n",
    "from scipy.spatial.distance import cdist"
   ]
  },
  {
   "cell_type": "code",
   "execution_count": 101,
   "metadata": {},
   "outputs": [],
   "source": [
    "def get_k(train_data,min_k=1,max_k=10):\n",
    "    train_array = np.array(train_data)\n",
    "    K = range(min_k, max_k)\n",
    "    mean_distortions = []\n",
    "    for k in K:#遍历K计算畸变\n",
    "        kmeans = KMeans(n_clusters=k)\n",
    "        kmeans.fit(train_array)\n",
    "        mean_distortions.append(sum(np.min(cdist(train_array, kmeans.cluster_centers_, 'euclidean'), axis=1)) / X.shape[0])#此处用欧氏距离\n",
    "    plt.plot(K, mean_distortions, 'bx-')\n",
    "    plt.xlabel('k取值')\n",
    "    plt.ylabel('平均畸变程度')\n",
    "    plt.title('用肘部法则来确定最佳的K值');\n",
    "    plt.show();\n",
    "    return mean_distortions"
   ]
  },
  {
   "cell_type": "markdown",
   "metadata": {},
   "source": [
    "### 2、定义距离函数"
   ]
  },
  {
   "cell_type": "code",
   "execution_count": 16,
   "metadata": {
    "collapsed": true
   },
   "outputs": [],
   "source": [
    "def minkovDist(x,y,p=2):\n",
    "    if p>=1:\n",
    "#         return sum((x-y)**p)**(1/p)\n",
    "        return np.linalg.norm(x-y,ord=p)\n",
    "    else:\n",
    "        print('p must be larger than or equal to 1')"
   ]
  },
  {
   "cell_type": "markdown",
   "metadata": {},
   "source": [
    "### 3、定义训练模型函数"
   ]
  },
  {
   "cell_type": "code",
   "execution_count": 106,
   "metadata": {
    "collapsed": true
   },
   "outputs": [],
   "source": [
    "def KmensAlgo(train_data,k,p=2):\n",
    "    # train_data: 训练样本此处为table形式（我日常比较常用）\n",
    "    # k: 簇数\n",
    "    # 函数结果：返回两个参数，分别为训练集的分簇结果及质心\n",
    "    \n",
    "    train_array = np.array(train_data)\n",
    "    length = len(train_data)\n",
    "    # 随机选取k个质心\n",
    "    random_iloc = random.sample(range(length),k)\n",
    "    cent = [train_array[i] for i in random_iloc]\n",
    "    # 定义一个list,用来储存每行所属簇\n",
    "    position_list = [0]*length\n",
    "    changed = True\n",
    "    while changed:\n",
    "        # 计算每个点到质心的距离，选出最短距离并进行簇归类\n",
    "        for i in range(length):\n",
    "            dist_to_cent = [minkovDist(train_array[i],cent_value) for cent_value in cent]\n",
    "            positin = dist_to_cent.index(min(dist_to_cent))\n",
    "            position_list[i] = positin\n",
    "        # 更新质心\n",
    "        for j in range(k):\n",
    "            now_position = [l for l in range(length) if position_list[l]==j]\n",
    "            new_cents = np.mean([train_data.iloc[l] for l in now_position],axis=0)#每簇的数据均值作为新的质心\n",
    "            if (minkovDist(new_cents,cent[j]))>=0.00001:#检查质心是否变化\n",
    "                cent[j] = new_cents\n",
    "                changed=True\n",
    "            else:\n",
    "                changed=False\n",
    "                print(str(j)+'簇质心已更新完毕')\n",
    "    return position_list,cent"
   ]
  },
  {
   "cell_type": "markdown",
   "metadata": {},
   "source": [
    "### 4、测试集分类结果"
   ]
  },
  {
   "cell_type": "code",
   "execution_count": 107,
   "metadata": {
    "collapsed": true
   },
   "outputs": [],
   "source": [
    "def predit(test_df,cent):\n",
    "    test_array = np.array(test_df)\n",
    "    position_list = [0]*len(test_array)\n",
    "    for i in range(len(test_array)):\n",
    "        dist_to_cent = [minkovDist(test_array[i],cent_value) for cent_value in cent]\n",
    "        positin = dist_to_cent.index(min(dist_to_cent))\n",
    "        position_list[i] = positin\n",
    "    return position_list"
   ]
  },
  {
   "cell_type": "markdown",
   "metadata": {},
   "source": [
    "### 5、模型结果"
   ]
  },
  {
   "cell_type": "code",
   "execution_count": 127,
   "metadata": {},
   "outputs": [
    {
     "data": {
      "text/html": [
       "<div>\n",
       "<style>\n",
       "    .dataframe thead tr:only-child th {\n",
       "        text-align: right;\n",
       "    }\n",
       "\n",
       "    .dataframe thead th {\n",
       "        text-align: left;\n",
       "    }\n",
       "\n",
       "    .dataframe tbody tr th {\n",
       "        vertical-align: top;\n",
       "    }\n",
       "</style>\n",
       "<table border=\"1\" class=\"dataframe\">\n",
       "  <thead>\n",
       "    <tr style=\"text-align: right;\">\n",
       "      <th></th>\n",
       "      <th>0</th>\n",
       "      <th>1</th>\n",
       "    </tr>\n",
       "  </thead>\n",
       "  <tbody>\n",
       "    <tr>\n",
       "      <th>0</th>\n",
       "      <td>1.531821</td>\n",
       "      <td>1.620306</td>\n",
       "    </tr>\n",
       "    <tr>\n",
       "      <th>1</th>\n",
       "      <td>1.813985</td>\n",
       "      <td>1.521455</td>\n",
       "    </tr>\n",
       "    <tr>\n",
       "      <th>2</th>\n",
       "      <td>1.986048</td>\n",
       "      <td>1.752204</td>\n",
       "    </tr>\n",
       "    <tr>\n",
       "      <th>3</th>\n",
       "      <td>1.603485</td>\n",
       "      <td>1.525857</td>\n",
       "    </tr>\n",
       "    <tr>\n",
       "      <th>4</th>\n",
       "      <td>1.694122</td>\n",
       "      <td>1.050790</td>\n",
       "    </tr>\n",
       "    <tr>\n",
       "      <th>5</th>\n",
       "      <td>1.559216</td>\n",
       "      <td>1.376343</td>\n",
       "    </tr>\n",
       "    <tr>\n",
       "      <th>6</th>\n",
       "      <td>1.044433</td>\n",
       "      <td>1.465163</td>\n",
       "    </tr>\n",
       "    <tr>\n",
       "      <th>7</th>\n",
       "      <td>1.720067</td>\n",
       "      <td>1.511982</td>\n",
       "    </tr>\n",
       "    <tr>\n",
       "      <th>8</th>\n",
       "      <td>1.963977</td>\n",
       "      <td>1.110792</td>\n",
       "    </tr>\n",
       "    <tr>\n",
       "      <th>9</th>\n",
       "      <td>1.479906</td>\n",
       "      <td>1.716535</td>\n",
       "    </tr>\n",
       "    <tr>\n",
       "      <th>10</th>\n",
       "      <td>19.139256</td>\n",
       "      <td>13.429363</td>\n",
       "    </tr>\n",
       "    <tr>\n",
       "      <th>11</th>\n",
       "      <td>12.579991</td>\n",
       "      <td>10.055857</td>\n",
       "    </tr>\n",
       "    <tr>\n",
       "      <th>12</th>\n",
       "      <td>13.942731</td>\n",
       "      <td>13.766064</td>\n",
       "    </tr>\n",
       "    <tr>\n",
       "      <th>13</th>\n",
       "      <td>19.613485</td>\n",
       "      <td>16.714967</td>\n",
       "    </tr>\n",
       "    <tr>\n",
       "      <th>14</th>\n",
       "      <td>13.632013</td>\n",
       "      <td>19.332288</td>\n",
       "    </tr>\n",
       "    <tr>\n",
       "      <th>15</th>\n",
       "      <td>11.263620</td>\n",
       "      <td>14.628168</td>\n",
       "    </tr>\n",
       "    <tr>\n",
       "      <th>16</th>\n",
       "      <td>15.094917</td>\n",
       "      <td>14.654902</td>\n",
       "    </tr>\n",
       "    <tr>\n",
       "      <th>17</th>\n",
       "      <td>15.710807</td>\n",
       "      <td>18.193346</td>\n",
       "    </tr>\n",
       "    <tr>\n",
       "      <th>18</th>\n",
       "      <td>15.529516</td>\n",
       "      <td>18.492523</td>\n",
       "    </tr>\n",
       "    <tr>\n",
       "      <th>19</th>\n",
       "      <td>15.836558</td>\n",
       "      <td>11.107780</td>\n",
       "    </tr>\n",
       "  </tbody>\n",
       "</table>\n",
       "</div>"
      ],
      "text/plain": [
       "            0          1\n",
       "0    1.531821   1.620306\n",
       "1    1.813985   1.521455\n",
       "2    1.986048   1.752204\n",
       "3    1.603485   1.525857\n",
       "4    1.694122   1.050790\n",
       "5    1.559216   1.376343\n",
       "6    1.044433   1.465163\n",
       "7    1.720067   1.511982\n",
       "8    1.963977   1.110792\n",
       "9    1.479906   1.716535\n",
       "10  19.139256  13.429363\n",
       "11  12.579991  10.055857\n",
       "12  13.942731  13.766064\n",
       "13  19.613485  16.714967\n",
       "14  13.632013  19.332288\n",
       "15  11.263620  14.628168\n",
       "16  15.094917  14.654902\n",
       "17  15.710807  18.193346\n",
       "18  15.529516  18.492523\n",
       "19  15.836558  11.107780"
      ]
     },
     "execution_count": 127,
     "metadata": {},
     "output_type": "execute_result"
    }
   ],
   "source": [
    "c1 = np.random.uniform(1, 2, (2, 10))\n",
    "c2 = np.random.uniform(10, 20, (2, 10))\n",
    "train_data = DataFrame(np.hstack((c1, c2)).T)\n",
    "train_data"
   ]
  },
  {
   "cell_type": "code",
   "execution_count": 128,
   "metadata": {
    "scrolled": false
   },
   "outputs": [
    {
     "data": {
      "image/png": "[encoded data removed]",
      "text/plain": [
       "<matplotlib.figure.Figure at 0xd08b518>"
      ]
     },
     "metadata": {},
     "output_type": "display_data"
    }
   ],
   "source": [
    "cost = get_k(train_data)"
   ]
  },
  {
   "cell_type": "code",
   "execution_count": 129,
   "metadata": {},
   "outputs": [
    {
     "name": "stdout",
     "output_type": "stream",
     "text": [
      "0簇质心已更新完毕\n",
      "1簇质心已更新完毕\n"
     ]
    }
   ],
   "source": [
    "position,cent = KmensAlgo(train_data,k=2,p=2)"
   ]
  },
  {
   "cell_type": "code",
   "execution_count": 130,
   "metadata": {},
   "outputs": [
    {
     "data": {
      "text/plain": [
       "[1, 1, 1, 1, 1, 1, 1, 1, 1, 1, 0, 0, 0, 0, 0, 0, 0, 0, 0, 0]"
      ]
     },
     "execution_count": 130,
     "metadata": {},
     "output_type": "execute_result"
    }
   ],
   "source": [
    "position"
   ]
  },
  {
   "cell_type": "code",
   "execution_count": 131,
   "metadata": {},
   "outputs": [
    {
     "data": {
      "text/plain": [
       "[array([ 15.23428936,  15.03752566]), array([ 1.63970595,  1.4651428 ])]"
      ]
     },
     "execution_count": 131,
     "metadata": {},
     "output_type": "execute_result"
    }
   ],
   "source": [
    "cent"
   ]
  },
  {
   "cell_type": "code",
   "execution_count": 132,
   "metadata": {
    "collapsed": true
   },
   "outputs": [],
   "source": [
    "test_df = DataFrame({'a':[1,2,3,20],'b':[3,4,5,18]})"
   ]
  },
  {
   "cell_type": "code",
   "execution_count": 133,
   "metadata": {},
   "outputs": [
    {
     "data": {
      "text/plain": [
       "[1, 1, 1, 0]"
      ]
     },
     "execution_count": 133,
     "metadata": {},
     "output_type": "execute_result"
    }
   ],
   "source": [
    "predit(test_df,cent)"
   ]
  }
 ],
 "metadata": {
  "kernelspec": {
   "display_name": "Python 3",
   "language": "python",
   "name": "python3"
  },
  "language_info": {
   "codemirror_mode": {
    "name": "ipython",
    "version": 3
   },
   "file_extension": ".py",
   "mimetype": "text/x-python",
   "name": "python",
   "nbconvert_exporter": "python",
   "pygments_lexer": "ipython3",
   "version": "3.5.2"
  },
  "toc": {
   "nav_menu": {},
   "number_sections": true,
   "sideBar": true,
   "skip_h1_title": false,
   "toc_cell": false,
   "toc_position": {},
   "toc_section_display": "block",
   "toc_window_display": true
  }
 },
 "nbformat": 4,
 "nbformat_minor": 2
}
