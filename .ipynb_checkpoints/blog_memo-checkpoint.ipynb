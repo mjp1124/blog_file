{
 "cells": [
  {
   "cell_type": "markdown",
   "metadata": {},
   "source": [
    "# 发布博客"
   ]
  },
  {
   "cell_type": "markdown",
   "metadata": {},
   "source": [
    "hexo clean#清理\n",
    "\n",
    "hexo g#generate,生成\n",
    "\n",
    "hexo s#本地起个服务，预览\n",
    "\n",
    "hexo deploy#发布"
   ]
  },
  {
   "cell_type": "markdown",
   "metadata": {},
   "source": [
    "deploy的时候如果出现报错信息：ERROR Deployer not found: git\n",
    "\n",
    "#解决办法\n",
    "npm install hexo-deployer-git --save"
   ]
  },
  {
   "cell_type": "markdown",
   "metadata": {},
   "source": [
    "# 建立github免密"
   ]
  },
  {
   "cell_type": "markdown",
   "metadata": {},
   "source": [
    "ssh-keygen -t rsa -b 4096 -C \"mjp1124@126.com\"\n",
    "\n",
    "Enter a file in which to save the key (/home/you/.ssh/id_rsa): [Press enter]\n",
    "\n",
    "Enter passphrase (empty for no passphrase): [Type a passphrase]\n",
    "\n",
    "Enter same passphrase again: [Type passphrase again]\n",
    "\n",
    "eval \"$(ssh-agent -s)\"\n",
    "\n",
    "ssh-add ~/.ssh/id_rsa"
   ]
  },
  {
   "cell_type": "markdown",
   "metadata": {},
   "source": [
    "sudo apt-get install xclip\n",
    "\n",
    "xclip -sel clip < ~/.ssh/id_rsa.pub"
   ]
  },
  {
   "cell_type": "markdown",
   "metadata": {},
   "source": [
    "去github,点击Settings\n",
    "\n",
    "点击 SSH and GPG keys\n",
    "\n",
    "点击 New SSH key or Add SSH key\n",
    "\n",
    "在\"Title\"中可以对新的key添加一些描述，例如: \"Personal MacBook Air\"\n",
    "\n",
    "在key的空格里面直接粘贴(因为前面的操作已经自动复制了)\n",
    "\n",
    "点击Add SSH key\n",
    "\n",
    "完成后需要重新登录"
   ]
  },
  {
   "cell_type": "markdown",
   "metadata": {},
   "source": [
    "# notebook 转成markdowm"
   ]
  },
  {
   "cell_type": "markdown",
   "metadata": {},
   "source": [
    "* jupyter nbconvert --to markdown test.ipynb --output /home/.../_posts/test2.md #单一文件转成md\n",
    "\n",
    "* jupyter nbconvert --to markdown notebook的名字.ipynb --output-dir /home/.../_posts/ \n",
    "\n",
    "* 如果是批量转成md文件，用dir，但是不能改文件名字，单一文件可以不用加dir\n",
    "\n",
    "* notebook 中的图片保存在notebook的名字_files文件中，需要手动把‘_files’删掉，需要保持md和文件夹名字一致\n",
    "\n",
    "* md文件最后一行改成：{% asset_img 图片名称.png 想在博客中显示的图片名称 %}\n",
    "\n",
    "* md文件中加入 <!--more-->,在博客中后面的内容显示为：阅读全文\n",
    "\n",
    "* md的开头加入：\n",
    "    > \\---\n",
    "    \n",
    "    > title: 画图那些事儿\n",
    "    \n",
    "    > categories: pandas\n",
    "    \n",
    "    > tag: \n",
    "    \n",
    "    >   \\- plot\n",
    "    \n",
    "    >  \\---\n",
    " \n"
   ]
  }
 ],
 "metadata": {
  "kernelspec": {
   "display_name": "Python 3",
   "language": "python",
   "name": "python3"
  },
  "language_info": {
   "codemirror_mode": {
    "name": "ipython",
    "version": 3
   },
   "file_extension": ".py",
   "mimetype": "text/x-python",
   "name": "python",
   "nbconvert_exporter": "python",
   "pygments_lexer": "ipython3",
   "version": "3.4.3"
  },
  "toc": {
   "colors": {
    "hover_highlight": "#DAA520",
    "running_highlight": "#FF0000",
    "selected_highlight": "#FFD700"
   },
   "moveMenuLeft": true,
   "nav_menu": {
    "height": "68px",
    "width": "252px"
   },
   "navigate_menu": true,
   "number_sections": true,
   "sideBar": true,
   "threshold": 4,
   "toc_cell": false,
   "toc_section_display": "block",
   "toc_window_display": false,
   "widenNotebook": false
  }
 },
 "nbformat": 4,
 "nbformat_minor": 1
}
