{
 "cells": [
  {
   "cell_type": "markdown",
   "metadata": {},
   "source": [
    "# 确定要发送的内容\n",
    "## 将table1,table2作为发送内容"
   ]
  },
  {
   "cell_type": "code",
   "execution_count": 1,
   "metadata": {
    "collapsed": false
   },
   "outputs": [],
   "source": [
    "from pandas import DataFrame\n",
    "import pandas as pd\n",
    "table1 = DataFrame({'A':[1,2,3,],'B':[2,3,4]})\n",
    "\n",
    "table2 = DataFrame({'C':[1,3,3,],'D':[2,3,4]})"
   ]
  },
  {
   "cell_type": "markdown",
   "metadata": {},
   "source": [
    "# 将table转化成HTML格式\n",
    "## 此处用到jinja2模板引擎\n",
    "    * jinja2中有一个核心对象: template Environment(模板环境), 这个类的实例被用于存储配置信息, 全局对象, 从文件系统或其他位置加载模板, 甚至如果你使用Template的构造器创建一个String类型的模板的时候, 也会自动的创建一个Environment对象.\n",
    "    *  Environment一般在一个应用中只创建一个, 当系统中有不同的配置需求的时候, 就需要创建多个Environment对象相互支持\n",
    "    *  创建一个Environment对象: env = Environment(loader = FileSystemLoader(‘templates’))…意思是创建一个template Environment对象, 使用的加载器loader是FileSystemLoader类型, 可以加载的模板是当前工作目录下的templates目录下的模板文件\n",
    "    * 加载一个模板: template = env.get_template(‘mytemplate.html’), 使用env的模板环境加载名为mytemplate.html的模板文件.\n",
    "    * 渲染一个模板: template.render(date_str=date_str), 渲染模板template, 传入了模板参数date_str值为date_str"
   ]
  },
  {
   "cell_type": "code",
   "execution_count": 68,
   "metadata": {
    "collapsed": true
   },
   "outputs": [],
   "source": [
    "from jinja2 import Template, Environment, FileSystemLoader\n",
    "templateLoader = FileSystemLoader(searchpath=\"template/\") # 我的模板存在了template文件夹\n",
    "env = Environment(loader=templateLoader)"
   ]
  },
  {
   "cell_type": "markdown",
   "metadata": {},
   "source": [
    "### header模板定义了，我要发送的邮件的开头内容，内容如下:\n",
    "* 需要传进去的参数为date_str和author"
   ]
  },
  {
   "cell_type": "markdown",
   "metadata": {},
   "source": [
    "<h4>DEAR ALL～，此为{{date_str}}，自动发送的邮件，请勿直接回复，如有疑问，请与{{author}}联系，谢谢！ </h4>"
   ]
  },
  {
   "cell_type": "markdown",
   "metadata": {},
   "source": [
    "### main_body_templet模板定义了我要发送的内容，里面内容很简单，因为每次添加的内容只是一张表，所以如下："
   ]
  },
  {
   "cell_type": "markdown",
   "metadata": {},
   "source": [
    "{% from \"detail.html\" import table with context %}\n",
    "\n",
    "{{table(data)}}"
   ]
  },
  {
   "cell_type": "markdown",
   "metadata": {},
   "source": [
    "### 注意上面的模板中，我调用了detail模板，detail内容如下：里面的内容是我对要发送的table的一些定义\n",
    "* 此处我定义了even和odd是为了不同行显示不同颜色，也可以在style里面定义"
   ]
  },
  {
   "cell_type": "markdown",
   "metadata": {},
   "source": [
    "{% macro table(data) %}\n",
    "    <table>\n",
    "         {% for row in data%}\n",
    "\t\t{% if (row[0]!='序号') and (row[0]%2==0) %}\n",
    "\t\t<tr class='odd'>\n",
    "\t\t{% elif (row[0]!='序号') and (row[0]%2!=0) %}\n",
    "\t\t<tr class ='even'>\n",
    "\t\t{% else %}\n",
    "\t\t<tr class ='tableHeader'>\n",
    "\t\t{% endif %}\n",
    "                {% for col in row%}\n",
    "                \t<td>{{col}}</td>\n",
    "                {% endfor %}\n",
    "            \t</tr>\n",
    "        {% endfor %}\n",
    "    </table>\n",
    "{% endmacro %}"
   ]
  },
  {
   "cell_type": "markdown",
   "metadata": {},
   "source": [
    "## 利用模板"
   ]
  },
  {
   "cell_type": "code",
   "execution_count": 69,
   "metadata": {
    "collapsed": false
   },
   "outputs": [],
   "source": [
    "start_template = env.get_template('header.html')\n",
    "table_template = env.get_template('main_body_templet.html')\n",
    "date_str = datetime.strftime(datetime.now(), '%Y-%m-%d')\n",
    "start_statement = start_template.render(date_str=date_str,author='Icey')#传进参数并渲染模板"
   ]
  },
  {
   "cell_type": "markdown",
   "metadata": {},
   "source": [
    "* start_statement内容如下"
   ]
  },
  {
   "cell_type": "code",
   "execution_count": 70,
   "metadata": {
    "collapsed": false,
    "scrolled": true
   },
   "outputs": [
    {
     "data": {
      "text/plain": [
       "'\\n<h4>DEAR ALL～，此为2017-05-17，自动发送的邮件，请勿直接回复，如有疑问，请与Icey联系，谢谢！ </h4>\\n'"
      ]
     },
     "execution_count": 70,
     "metadata": {},
     "output_type": "execute_result"
    }
   ],
   "source": [
    "start_statement"
   ]
  },
  {
   "cell_type": "markdown",
   "metadata": {},
   "source": [
    "* 下一步我们要去渲染table的模板，此处我定义了一个函数，可以得到我要发送的html,内容如下："
   ]
  },
  {
   "cell_type": "code",
   "execution_count": 71,
   "metadata": {
    "collapsed": true
   },
   "outputs": [],
   "source": [
    "def get_html_text(input_df):\n",
    "    header = list(input_df.columns)\n",
    "    header.insert(0, '序号')\n",
    "    email_list = []\n",
    "    email_list.append(header)\n",
    "    email_list.extend(input_df.to_records())\n",
    "    html_text = table_template.render(data=email_list)\n",
    "#     html_text = [s for s in html_text.split('\\n') if s.replace('\\t', '').replace(' ', '') != '']\n",
    "    return html_text"
   ]
  },
  {
   "cell_type": "code",
   "execution_count": 72,
   "metadata": {
    "collapsed": false
   },
   "outputs": [],
   "source": [
    "# 传入table,得到对应的html_text\n",
    "table1_html,table2_html = get_html_text(table1),get_html_text(table2)"
   ]
  },
  {
   "cell_type": "markdown",
   "metadata": {},
   "source": [
    "* 一般情况下我们在发送的表格前都会加一些备注，以便收件人容易理解\n",
    "* 将我们添加的内容和输出的内容进行组合"
   ]
  },
  {
   "cell_type": "code",
   "execution_count": 80,
   "metadata": {
    "collapsed": true
   },
   "outputs": [],
   "source": [
    "mid1 = '<h2>table1的内容:</h2>'\n",
    "mid2 = '<h2>table2的内容:</h2>'"
   ]
  },
  {
   "cell_type": "code",
   "execution_count": 81,
   "metadata": {
    "collapsed": false
   },
   "outputs": [
    {
     "data": {
      "text/plain": [
       "['<h4>DEAR ALL～，此为2017-05-17，自动发送的邮件，请勿直接回复，如有疑问，请与Icey联系，谢谢！ </h4>',\n",
       " '<h2>table1的内容:</h2>',\n",
       " '    <table>',\n",
       " \"\\t\\t<tr class ='tableHeader'>\",\n",
       " '                \\t<td>序号</td>',\n",
       " '                \\t<td>A</td>',\n",
       " '                \\t<td>B</td>',\n",
       " '            \\t</tr>',\n",
       " \"\\t\\t<tr class='odd'>\",\n",
       " '                \\t<td>0</td>',\n",
       " '                \\t<td>1</td>',\n",
       " '                \\t<td>2</td>',\n",
       " '            \\t</tr>',\n",
       " \"\\t\\t<tr class ='even'>\",\n",
       " '                \\t<td>1</td>',\n",
       " '                \\t<td>2</td>',\n",
       " '                \\t<td>3</td>',\n",
       " '            \\t</tr>',\n",
       " \"\\t\\t<tr class='odd'>\",\n",
       " '                \\t<td>2</td>',\n",
       " '                \\t<td>3</td>',\n",
       " '                \\t<td>4</td>',\n",
       " '            \\t</tr>',\n",
       " '    </table>',\n",
       " '<h2>table2的内容:</h2>',\n",
       " '    <table>',\n",
       " \"\\t\\t<tr class ='tableHeader'>\",\n",
       " '                \\t<td>序号</td>',\n",
       " '                \\t<td>C</td>',\n",
       " '                \\t<td>D</td>',\n",
       " '            \\t</tr>',\n",
       " \"\\t\\t<tr class='odd'>\",\n",
       " '                \\t<td>0</td>',\n",
       " '                \\t<td>1</td>',\n",
       " '                \\t<td>2</td>',\n",
       " '            \\t</tr>',\n",
       " \"\\t\\t<tr class ='even'>\",\n",
       " '                \\t<td>1</td>',\n",
       " '                \\t<td>3</td>',\n",
       " '                \\t<td>3</td>',\n",
       " '            \\t</tr>',\n",
       " \"\\t\\t<tr class='odd'>\",\n",
       " '                \\t<td>2</td>',\n",
       " '                \\t<td>3</td>',\n",
       " '                \\t<td>4</td>',\n",
       " '            \\t</tr>',\n",
       " '    </table>']"
      ]
     },
     "execution_count": 81,
     "metadata": {},
     "output_type": "execute_result"
    }
   ],
   "source": [
    "html_text = start_statement + mid1 + table1_html + mid2 + table2_html\n",
    "html_text = [s for s in html_text.split('\\n') if s.replace('\\t', '').replace(' ', '') != ''] # 进行一下整理\n",
    "html_text"
   ]
  },
  {
   "cell_type": "markdown",
   "metadata": {},
   "source": [
    "## 定义要发送的内容的格式\n",
    "* 格式这些可以在网上找，有很多漂亮的"
   ]
  },
  {
   "cell_type": "code",
   "execution_count": 82,
   "metadata": {
    "collapsed": true
   },
   "outputs": [],
   "source": [
    "styles = '''\n",
    "<style>\n",
    "    table {\n",
    "        background:#87ceeb;\n",
    "        color: #333; /* Lighten up font color */\n",
    "        font-family: Helvetica, Arial, sans-serif; /* Nicer font */\n",
    "        width: 640px;\n",
    "        border-collapse:\n",
    "        collapse; border-spacing: 0;\n",
    "    }\n",
    "\n",
    "   td, th { border: 1px solid #CCC; height: 30px; } /* Make cells a bit taller */\n",
    "\n",
    "   th {\n",
    "        background: #F3F3F3; /* Light grey background */\n",
    "        font-weight: bold; /* Make sure they're bold */\n",
    "    }\n",
    "   td {\n",
    "        /*background: #FAFAFA;  Lighter grey background */\n",
    "        text-align: center; /* Center our text */\n",
    "    }\n",
    "   .odd>td { background: #FEFEFE;}\n",
    "   .even>td { background: #F1F1F1;}\n",
    "\n",
    "</style>\n",
    "\n",
    "'''"
   ]
  },
  {
   "cell_type": "markdown",
   "metadata": {},
   "source": [
    "## 将发送内容与格式结合在一起，得到最终发送内容及格式"
   ]
  },
  {
   "cell_type": "code",
   "execution_count": 83,
   "metadata": {
    "collapsed": true
   },
   "outputs": [],
   "source": [
    "html_text = transform(styles + '\\n'.join(html_text))"
   ]
  },
  {
   "cell_type": "markdown",
   "metadata": {},
   "source": [
    "# 定义一个发送邮件的函数"
   ]
  },
  {
   "cell_type": "code",
   "execution_count": 84,
   "metadata": {
    "collapsed": true
   },
   "outputs": [],
   "source": [
    "from email.mime.multipart import MIMEMultipart\n",
    "from email.mime.text import MIMEText\n",
    "from email.mime.image import MIMEImage\n",
    "from email.mime.application import MIMEApplication\n",
    "from os.path import basename\n",
    "from premailer import transform\n",
    "\n",
    "def send_mail(from_addr, to_addr,pass_word, subject, html_text, styles = '', cc_addr = None, bcc_addr = None,  alternative_plain_text = '', local_images = None, attachments = None):\n",
    "    cc_addr = cc_addr or []\n",
    "    bcc_addr = bcc_addr or []\n",
    "    local_images = local_images or {}\n",
    "    attachments = attachments or []    \n",
    "    to_all_addr = to_addr+cc_addr+bcc_addr\n",
    "\n",
    "\n",
    "    html_text = transform(\n",
    "        styles+html_text\n",
    "    )\n",
    "\n",
    "    # Create the root message and fill in the from, to, and subject headers\n",
    "    msgRoot = MIMEMultipart('related')\n",
    "    msgRoot['Subject'] = subject\n",
    "    #msgRoot['From'] = from_addr\n",
    "    #msgRoot['To'] = ','.join(to_addr)\n",
    "    msgRoot.preamble = 'This is a multi-part message in MIME format.'\n",
    "\n",
    "    # Encapsulate the plain and HTML versions of the message body in an\n",
    "    # 'alternative' part, so message agents can decide which they want to display.\n",
    "    msgText = MIMEText(alternative_plain_text)\n",
    "    msgAlternative = MIMEMultipart('alternative')\n",
    "    msgAlternative.attach(msgText)\n",
    "\n",
    "    # We reference the image in the IMG SRC attribute by the ID we give it below\n",
    "    msgText = MIMEText(html_text, 'html')\n",
    "    #msgAlternative.attach(msgText)\n",
    "\n",
    "    msgRoot.attach(msgText)\n",
    "\n",
    "\n",
    "    msgRoot.add_header('From',from_addr)\n",
    "    msgRoot.add_header('To', \",\".join(to_addr))\n",
    "    msgRoot.add_header('Cc', \",\".join(cc_addr))\n",
    "    msgRoot.add_header('Bcc', \",\".join(bcc_addr))\n",
    "\n",
    "    # This example assumes the image is in the current directory\n",
    "    for cid, path in local_images.items():\n",
    "        fp = open(path, 'rb')\n",
    "        msgImage = MIMEImage(fp.read())\n",
    "        fp.close()\n",
    "\n",
    "        # Define the image's ID as referenced above\n",
    "        msgImage.add_header('Content-ID', '<{cid}>'.format(cid = cid))\n",
    "        msgRoot.attach(msgImage)\n",
    "\n",
    "    for path in attachments or []:\n",
    "        with open(path, \"rb\") as file:\n",
    "            part = MIMEApplication(\n",
    "                file.read(),\n",
    "                Name=basename(path)\n",
    "            )\n",
    "            part['Content-Disposition'] = 'attachment; filename=\"{}\"'.format(basename(path)) \n",
    "            msgRoot.attach(part)    \n",
    "\n",
    "    # Send the email (this example assumes SMTP authentication is required)\n",
    "    import smtplib\n",
    "    smtp = smtplib.SMTP()\n",
    "    smtp.connect('smtp.exmail.qq.com')\n",
    "    smtp.login(from_addr, pass_word)\n",
    "    smtp.sendmail(from_addr, to_all_addr, msgRoot.as_string())\n",
    "    smtp.quit()"
   ]
  },
  {
   "cell_type": "markdown",
   "metadata": {},
   "source": [
    "# 利用上面定义的发邮件的函数，将相应参数传进去就可以发送邮件啦～"
   ]
  },
  {
   "cell_type": "code",
   "execution_count": 85,
   "metadata": {
    "collapsed": false
   },
   "outputs": [],
   "source": [
    "subject = '发送邮件报告测试'\n",
    "alternative_plain_text = 'alternative text'\n",
    "send_mail(\n",
    "    'finance.datascience@jfpal.com',\n",
    "    ['mjp@jfpal.com'],\n",
    "    'Jrsjkxzbbd2333',\n",
    "    subject,\n",
    "    html_text,\n",
    "    styles=styles,\n",
    "    cc_addr=None,\n",
    "    bcc_addr=None,\n",
    "    alternative_plain_text='alternative text',\n",
    "    local_images=None,\n",
    "    attachments=None)"
   ]
  },
  {
   "cell_type": "markdown",
   "metadata": {},
   "source": [
    "# 有时候想要发送的邮件是很多图片，这时候，我们可以在send_email的local_image定义图片的地址，此处暂不作详细介绍"
   ]
  }
 ],
 "metadata": {
  "kernelspec": {
   "display_name": "Python 3",
   "language": "python",
   "name": "python3"
  },
  "language_info": {
   "codemirror_mode": {
    "name": "ipython",
    "version": 3
   },
   "file_extension": ".py",
   "mimetype": "text/x-python",
   "name": "python",
   "nbconvert_exporter": "python",
   "pygments_lexer": "ipython3",
   "version": "3.4.3"
  },
  "toc": {
   "colors": {
    "hover_highlight": "#DAA520",
    "running_highlight": "#FF0000",
    "selected_highlight": "#FFD700"
   },
   "moveMenuLeft": true,
   "nav_menu": {
    "height": "286px",
    "width": "252px"
   },
   "navigate_menu": true,
   "number_sections": true,
   "sideBar": true,
   "threshold": 4,
   "toc_cell": false,
   "toc_section_display": "block",
   "toc_window_display": true,
   "widenNotebook": false
  }
 },
 "nbformat": 4,
 "nbformat_minor": 1
}
