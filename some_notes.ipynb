{
 "cells": [
  {
   "cell_type": "markdown",
   "metadata": {},
   "source": [
    "工作过程中，常用到的一些小操作，做个备份便于查询"
   ]
  },
  {
   "cell_type": "markdown",
   "metadata": {},
   "source": [
    "### 服务与文件\n",
    "* 连接服务器： [ssh user_name]@[server_ip]\n",
    "* 在连接的服务器启动jupyter后再本地浏览器打开： jupyter notebook --ip=[server_ip] nohop ?\n",
    "* 传送文件： scp -pr [本地文件夹/文件] [目标存放地址]\n",
    "* 重启服务器: sudo reboot \n",
    "* 虚拟环境\n",
    "    * 安装: pip3 install virtualenv\n",
    "    * 新建: virtualenv -p [虚拟环境存放的目标位置]\n",
    "    * 启动: source [目标位置/bin/activate]　\n",
    "    * 自己编写的函数包，可以放在虚拟环境下的lib/python环境中的site-packages中\n",
    "    * 指定调用的包的路径：site-packages mylib.pth中编写\n",
    "* bashrc文件定义短句样例: alias jter='jupyter notebook'"
   ]
  },
  {
   "cell_type": "markdown",
   "metadata": {},
   "source": [
    "### git\n",
    "* 比较文件区别： git diff [文件１]　[文件2] #git diff master比较的是历史区和工作区的差异\n",
    "* 查看版本号： git log --graph\n",
    "* 回退版本： git reset --hard [版本号]　#版本号前几个字段即可\n",
    "* 查看每次操作的号段： git reflog\n",
    "* 删除文件： git rm\n",
    "* 克隆git上的文件: git clone \n",
    "* 分支(branch)相关\n",
    "    * 查看分支: git branch\n",
    "    * 新建分支: git checkout -b [branchname]\n",
    "    * 切换分支: git checkout [branchname]\n",
    "    * 合并分支: git merge [branchname]\n",
    "    * 删除分支: git branch　-d [branchname]\n",
    "* 拉取git上的文件: git pull origin [branchname]\n",
    "* 文件修改后传到git上\n",
    "    * git status\n",
    "    * git add --all\n",
    "    * git commit -m [备注信息]\n",
    "    * git push origin [branchname]\n",
    "* 连接远程仓库: git remote add origin [仓库的地址]"
   ]
  },
  {
   "cell_type": "markdown",
   "metadata": {},
   "source": [
    "### screen\n",
    "* 创建并进入: screen\n",
    "* 创建一个新的运行shell的窗口并切换到该窗口: Ctrl-a c\n",
    "* 暂时离开,后台执行: Ctrl-a d #会输出一个screen地址\n",
    "* 进入制定地址的window: screen -r [screen地址]\n",
    "* 关闭：　Ctrl-a k\n",
    "* 显示所有键绑定信息: Ctrl-a ?\n",
    "* 切换到下一个window: Ctrl-a n\n",
    "* 切换到前一个window:　Ctrl-a p"
   ]
  }
 ],
 "metadata": {
  "kernelspec": {
   "display_name": "Python 3",
   "language": "python",
   "name": "python3"
  },
  "language_info": {
   "codemirror_mode": {
    "name": "ipython",
    "version": 3
   },
   "file_extension": ".py",
   "mimetype": "text/x-python",
   "name": "python",
   "nbconvert_exporter": "python",
   "pygments_lexer": "ipython3",
   "version": "3.5.2"
  },
  "toc": {
   "nav_menu": {},
   "number_sections": true,
   "sideBar": true,
   "skip_h1_title": false,
   "toc_cell": false,
   "toc_position": {},
   "toc_section_display": "block",
   "toc_window_display": false
  }
 },
 "nbformat": 4,
 "nbformat_minor": 2
}
