{
 "cells": [
  {
   "cell_type": "code",
   "execution_count": 6,
   "metadata": {
    "collapsed": true
   },
   "outputs": [],
   "source": [
    "import os\n",
    "os.environ['NLS_LANG'] = 'SIMPLIFIED CHINESE_CHINA.UTF8'"
   ]
  },
  {
   "cell_type": "markdown",
   "metadata": {},
   "source": [
    "#  oracle与mysql数据库"
   ]
  },
  {
   "cell_type": "markdown",
   "metadata": {},
   "source": [
    "## 定义好url"
   ]
  },
  {
   "cell_type": "code",
   "execution_count": 7,
   "metadata": {
    "collapsed": true
   },
   "outputs": [],
   "source": [
    "engine_url = {\n",
    "    'oracle': 'oracle://[user]:[password]@ip地址/SID或者SERVICE NAME',\n",
    "    'mysql':'mysql://[user]:[password]@ip地址:端口号/数据库名'    \n",
    "}"
   ]
  },
  {
   "cell_type": "markdown",
   "metadata": {},
   "source": [
    "## oracle连接"
   ]
  },
  {
   "cell_type": "code",
   "execution_count": null,
   "metadata": {
    "collapsed": true
   },
   "outputs": [],
   "source": [
    "engine_oracle = create_engine(engine_url['oracle'])\n",
    "meta_data = MetaData()\n",
    "[table_name] = Table(数据库中的表名称,meta_data,autoload = True, autoload_with = engine_oracle, schema = schema的名字)"
   ]
  },
  {
   "cell_type": "markdown",
   "metadata": {},
   "source": [
    "## mysql连接"
   ]
  },
  {
   "cell_type": "code",
   "execution_count": null,
   "metadata": {
    "collapsed": true
   },
   "outputs": [],
   "source": [
    "import pymysql\n",
    "pymysql.install_as_MySQLdb()\n",
    "\n",
    "engine_mysql = create_engine(engine_url['mysql'])\n",
    "meta_data = MetaData()"
   ]
  },
  {
   "cell_type": "markdown",
   "metadata": {},
   "source": [
    "## 取数（oracle和mysql一样)"
   ]
  },
  {
   "cell_type": "markdown",
   "metadata": {},
   "source": [
    "### 编写sql语句"
   ]
  },
  {
   "cell_type": "code",
   "execution_count": null,
   "metadata": {
    "collapsed": true
   },
   "outputs": [],
   "source": [
    "# 方法1—直接编写原生sql\n",
    "sql = '''\n",
    "SELECT\n",
    "    all_tab_cols.OWNER schema_name,\n",
    "    all_tab_cols.TABLE_NAME table_name,\n",
    "    all_tab_cols.COLUMN_NAME column_name,\n",
    "    all_tab_cols.DATA_TYPE data_type,\n",
    "    all_col_comments.COMMENTS data_comment\n",
    "FROM\n",
    "    all_tab_cols\n",
    "JOIN\n",
    "    all_col_comments\n",
    "ON\n",
    "    all_tab_cols.OWNER = all_col_comments.OWNER and\n",
    "    all_tab_cols.TABLE_NAME = all_col_comments.TABLE_NAME and\n",
    "    all_tab_cols.COLUMN_NAME = all_col_comments.COLUMN_NAME\n",
    "'''\n",
    "\n",
    "# 方法2—sqlalchemy\n",
    "all_tab_cols = Table('all_tab_cols',meta_data,autoload = True, autoload_with = engine_oracle, schema = 数据库的名字)\n",
    "all_col_comments = Table('all_col_comments',meta_data,autoload = True, autoload_with = engine_oracle, schema = 数据库的名字)\n",
    "\n",
    "sql = select(\n",
    "    [\n",
    "        all_tab_cols.c.owner.label('schema_name'),\n",
    "        all_tab_cols.c.table_name,\n",
    "        all_tab_cols.c.column_name,\n",
    "        all_tab_cols.c.data_type,\n",
    "        all_col_comments.c.comments.label('data_comment'),\n",
    "        \n",
    "    ]\n",
    ")select_from(\n",
    "    all_tab_cols.outerjoin(\n",
    "        all_col_comments,\n",
    "        and_(\n",
    "            all_tab_cols.c.owner==all_col_comments.c.owner,\n",
    "            all_tab_cols.c.table_name==all_col_comments.c.table_name,\n",
    "            all_tab_cols.c.column_name==all_col_comments.c.column_name\n",
    "        )\n",
    "    )\n",
    ")"
   ]
  },
  {
   "cell_type": "markdown",
   "metadata": {},
   "source": [
    "### 读数据"
   ]
  },
  {
   "cell_type": "code",
   "execution_count": null,
   "metadata": {
    "collapsed": true
   },
   "outputs": [],
   "source": [
    "# 方法一:用with,此方法读出来的数据的column是给定的数字，所以需要rename\n",
    "with engine_oracle.connect() as conn:\n",
    "    try:\n",
    "        result = conn.execute(sql)\n",
    "    except Exception as e:\n",
    "        print(e)\n",
    "df=DataFrame.from_records(result.fetchall(),columns = {0:'schema',1:'table',2:\"column\",3:'data_type',4:'comment'})"
   ]
  },
  {
   "cell_type": "code",
   "execution_count": null,
   "metadata": {
    "collapsed": true
   },
   "outputs": [],
   "source": [
    "# 方法二：用pd.read_sql\n",
    "df = pd.read_sql(sql,engine_oracle)"
   ]
  },
  {
   "cell_type": "markdown",
   "metadata": {},
   "source": [
    "### 如果数据太大，我们可以定义chunksize,用法如下："
   ]
  },
  {
   "cell_type": "code",
   "execution_count": null,
   "metadata": {
    "collapsed": true
   },
   "outputs": [],
   "source": [
    "chunksize = 10000 #想要切割的长度\n",
    "df_iter = pd.read_sql('xxxx',chunksize=chunksize)\n",
    "\n",
    "df_list = []\n",
    "for df in df_iter:\n",
    "    df_list.append(df)\n",
    "\n",
    "# 把df_list拼接起来\n",
    "result = pd.concat(df_list)"
   ]
  },
  {
   "cell_type": "markdown",
   "metadata": {},
   "source": [
    "# mangodb"
   ]
  },
  {
   "cell_type": "markdown",
   "metadata": {},
   "source": [
    "## 连接"
   ]
  },
  {
   "cell_type": "code",
   "execution_count": null,
   "metadata": {
    "collapsed": true
   },
   "outputs": [],
   "source": [
    "from pymongo import MongoClient\n",
    "import pymongo\n",
    "\n",
    "client = MongoClient(host=ip地址, port=端口号)\n",
    "db = client.get_database(数据库名)\n",
    "collection = db[表名]"
   ]
  },
  {
   "cell_type": "markdown",
   "metadata": {},
   "source": [
    "## 取数"
   ]
  },
  {
   "cell_type": "code",
   "execution_count": null,
   "metadata": {
    "collapsed": true
   },
   "outputs": [],
   "source": [
    "cursor = collection.find()\n",
    "\n",
    "list_data=[]\n",
    "for data in cursor:\n",
    "    df = DataFrame(data,index=[0])\n",
    "    list_data.append(df)\n",
    "result = pd.concat(list_data,ignore_index=True)"
   ]
  }
 ],
 "metadata": {
  "kernelspec": {
   "display_name": "Python 3",
   "language": "python",
   "name": "python3"
  },
  "language_info": {
   "codemirror_mode": {
    "name": "ipython",
    "version": 3
   },
   "file_extension": ".py",
   "mimetype": "text/x-python",
   "name": "python",
   "nbconvert_exporter": "python",
   "pygments_lexer": "ipython3",
   "version": "3.4.3"
  },
  "toc": {
   "colors": {
    "hover_highlight": "#DAA520",
    "running_highlight": "#FF0000",
    "selected_highlight": "#FFD700"
   },
   "moveMenuLeft": true,
   "nav_menu": {
    "height": "198px",
    "width": "252px"
   },
   "navigate_menu": true,
   "number_sections": true,
   "sideBar": true,
   "threshold": 4,
   "toc_cell": false,
   "toc_section_display": "block",
   "toc_window_display": true,
   "widenNotebook": false
  }
 },
 "nbformat": 4,
 "nbformat_minor": 1
}
