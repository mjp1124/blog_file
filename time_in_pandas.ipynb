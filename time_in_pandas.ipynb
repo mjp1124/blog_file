{
 "cells": [
  {
   "cell_type": "markdown",
   "metadata": {},
   "source": [
    "* 本文是将数据分析工作中一些常用的关于时间的技巧进行提炼总结，主要参考以下资料\n",
    "    * 书籍：利用python进行数据分析\n",
    "    * 网站：http://www.runoob.com/python/python-date-time.html"
   ]
  },
  {
   "cell_type": "markdown",
   "metadata": {},
   "source": [
    "# 关于时间的一些定义\n",
    "\n",
    "## 格式定义\n",
    "* 与系统环境无关\n",
    "    * %Y 四位年\n",
    "    * %y 两位年\n",
    "    * %m 两位月\n",
    "    * %d 两位日\n",
    "    * %H 时（24小时制）\n",
    "    * %I 时（12小时制）\n",
    "    * %M 两位分\n",
    "    * %S 两位秒\n",
    "    * %w 用整数表示的星期几（0-6）\n",
    "    * %U 每年的第几周，从0开始（周日为第一天）\n",
    "    * %W 每年的第几周，从0开始（周一为第一天）\n",
    "    * %F %Y-%m-%d的简写\n",
    "    * %D %m/%d/%y的简写\n",
    "* 与系统环境有关\n",
    "    * %a 星期几的简写\n",
    "    * %A 星期几的全称\n",
    "    * %b 月份的简写\n",
    "    * %B 月份的全称\n",
    "    * %c 完整的日期和时间\n",
    "    * %p 不同环境的am或pm\n",
    "    * %x 适用于当前环境的日期格式\n",
    "    * %X 适用于当前环境的时间格式\n",
    "\n",
    "## 时间序列的基础频率\n",
    "* D   ：   每日历日\n",
    "* B   ：   每工作日\n",
    "* H   ：   每小时\n",
    "* T/min   ：   每分\n",
    "* S   ：   每秒\n",
    "* L/ms   ：   每毫秒\n",
    "* U   ：   每微秒\n",
    "* M   ：   每月最后一个日历日\n",
    "* BM   ：   每月最后一个工作日\n",
    "* MS   ：   每月第一个日历日\n",
    "* BMS   ：   每月第一个工作日\n",
    "* W-MON、W-TUE...   ：   从指定的星期几开始算起，每周\n",
    "* WOM-1MON、WOM-2MON...   ：   产生每月第一、第二、第三、第四周的星期几\n",
    "* Q-JAN、Q-FEB...   ：   对于以指定月份结束的年度，每季度最后一月的最后一个日历日\n",
    "* BQ-JAN、BQ-FEB...   ：   对于以指定月份结束的年度，每季度最后一月的最后一个工作日\n",
    "* QS-JAN、QS-FEB...   ：   对于以指定月份结束的年度，每季度最后一月的第一个日历日\n",
    "* BQS-JAN、BQS-FEB...   ：   对于以指定月份结束的年度，每季度最后一月的第一个工作日\n",
    "* A-JAN、A-FEB...   ：   每年指定月份的最后一个日历日\n",
    "* BA-JAN、BA-FEB...   ：   每年指定月份的最后一个工作日\n",
    "* AS-JAN、AS-FEB...   ：   每年指定月份的第一个日历日\n",
    "* BAS-JAN、BAS-FEB...   ：   每年指定月份的第一个工作日"
   ]
  },
  {
   "cell_type": "markdown",
   "metadata": {},
   "source": [
    "# pandas中关于时间的用法\n",
    "\n",
    "* datetime模块中的数据类型：date,time,datetime,timedelat"
   ]
  },
  {
   "cell_type": "markdown",
   "metadata": {},
   "source": [
    "## datetime.datetime\n",
    "* datetime 以毫秒的形式，存储时间和日期\n",
    "* 可以从datetime输出相应的年月日时间点等信息，分别为(year,month,day,hour,minute,second)"
   ]
  },
  {
   "cell_type": "code",
   "execution_count": 74,
   "metadata": {},
   "outputs": [],
   "source": [
    "from datetime import datetime"
   ]
  },
  {
   "cell_type": "code",
   "execution_count": 75,
   "metadata": {},
   "outputs": [
    {
     "data": {
      "text/plain": [
       "datetime.datetime(2018, 8, 14, 17, 47, 57, 343367)"
      ]
     },
     "execution_count": 75,
     "metadata": {},
     "output_type": "execute_result"
    }
   ],
   "source": [
    "now = datetime.now()\n",
    "now"
   ]
  },
  {
   "cell_type": "code",
   "execution_count": 76,
   "metadata": {
    "scrolled": true
   },
   "outputs": [
    {
     "data": {
      "text/plain": [
       "(2018, 8, 14)"
      ]
     },
     "execution_count": 76,
     "metadata": {},
     "output_type": "execute_result"
    }
   ],
   "source": [
    "now.year,now.month,now.day"
   ]
  },
  {
   "cell_type": "markdown",
   "metadata": {},
   "source": [
    "## timedelta表示时间间隔\n",
    "* 输出结果为日和秒，若秒=0，被忽略输出,可用days，seconds输出日，秒\n",
    "* 日期与timedelta合用，可以输出指定时间间隔的时间"
   ]
  },
  {
   "cell_type": "code",
   "execution_count": 77,
   "metadata": {
    "scrolled": true
   },
   "outputs": [
    {
     "data": {
      "text/plain": [
       "datetime.timedelta(589, 3600)"
      ]
     },
     "execution_count": 77,
     "metadata": {},
     "output_type": "execute_result"
    }
   ],
   "source": [
    "delta = (datetime(2018,8,14,1,0,0)-datetime(2017,1,2,0,0,0))\n",
    "delta"
   ]
  },
  {
   "cell_type": "code",
   "execution_count": 78,
   "metadata": {},
   "outputs": [
    {
     "data": {
      "text/plain": [
       "(589, 3600)"
      ]
     },
     "execution_count": 78,
     "metadata": {},
     "output_type": "execute_result"
    }
   ],
   "source": [
    "delta.days ,delta.seconds"
   ]
  },
  {
   "cell_type": "code",
   "execution_count": 79,
   "metadata": {},
   "outputs": [
    {
     "data": {
      "text/plain": [
       "datetime.timedelta(365)"
      ]
     },
     "execution_count": 79,
     "metadata": {},
     "output_type": "execute_result"
    }
   ],
   "source": [
    "delta = (datetime(2018,1,1)-datetime(2017,1,1))\n",
    "delta"
   ]
  },
  {
   "cell_type": "code",
   "execution_count": 80,
   "metadata": {},
   "outputs": [],
   "source": [
    "from datetime import timedelta"
   ]
  },
  {
   "cell_type": "code",
   "execution_count": 81,
   "metadata": {},
   "outputs": [
    {
     "data": {
      "text/plain": [
       "datetime.datetime(2018, 1, 1, 0, 0)"
      ]
     },
     "execution_count": 81,
     "metadata": {},
     "output_type": "execute_result"
    }
   ],
   "source": [
    "datetime(2017,1,1) + timedelta(365)"
   ]
  },
  {
   "cell_type": "markdown",
   "metadata": {},
   "source": [
    "## datetime与字符串的相互转化\n",
    "* str ，strftime\n",
    "* strptime，parse ，to_datetime"
   ]
  },
  {
   "cell_type": "markdown",
   "metadata": {},
   "source": [
    "### datetime to str"
   ]
  },
  {
   "cell_type": "code",
   "execution_count": 213,
   "metadata": {},
   "outputs": [],
   "source": [
    "stamp = datetime(2018,1,1)"
   ]
  },
  {
   "cell_type": "code",
   "execution_count": 214,
   "metadata": {},
   "outputs": [
    {
     "data": {
      "text/plain": [
       "'2018-01-01 00:00:00'"
      ]
     },
     "execution_count": 214,
     "metadata": {},
     "output_type": "execute_result"
    }
   ],
   "source": [
    "str(stamp)"
   ]
  },
  {
   "cell_type": "code",
   "execution_count": 215,
   "metadata": {},
   "outputs": [
    {
     "data": {
      "text/plain": [
       "'2018-01-01'"
      ]
     },
     "execution_count": 215,
     "metadata": {},
     "output_type": "execute_result"
    }
   ],
   "source": [
    "stamp.strftime('%Y-%m-%d')"
   ]
  },
  {
   "cell_type": "code",
   "execution_count": 216,
   "metadata": {},
   "outputs": [
    {
     "data": {
      "text/plain": [
       "'20180101'"
      ]
     },
     "execution_count": 216,
     "metadata": {},
     "output_type": "execute_result"
    }
   ],
   "source": [
    "datetime.strftime(stamp,'%Y%m%d')"
   ]
  },
  {
   "cell_type": "markdown",
   "metadata": {},
   "source": [
    "### str to datetime\n",
    "* strptime 可以把指定格式的str转化成日期进行输出\n",
    "* parse 可以自动识别格式并进行输出（不支持中文格式），有些格式是日在前面的，可以用参数dayfirst控制\n",
    "* pandas 中大部分是处理成组日期，用to_datetime"
   ]
  },
  {
   "cell_type": "code",
   "execution_count": 217,
   "metadata": {},
   "outputs": [],
   "source": [
    "stamp = '20180101'"
   ]
  },
  {
   "cell_type": "code",
   "execution_count": 218,
   "metadata": {
    "scrolled": false
   },
   "outputs": [
    {
     "data": {
      "text/plain": [
       "datetime.datetime(2018, 1, 1, 0, 0)"
      ]
     },
     "execution_count": 218,
     "metadata": {},
     "output_type": "execute_result"
    }
   ],
   "source": [
    "datetime.strptime(stamp,'%Y%m%d')"
   ]
  },
  {
   "cell_type": "code",
   "execution_count": 219,
   "metadata": {},
   "outputs": [],
   "source": [
    "from dateutil.parser import parse"
   ]
  },
  {
   "cell_type": "code",
   "execution_count": 220,
   "metadata": {},
   "outputs": [
    {
     "data": {
      "text/plain": [
       "datetime.datetime(2018, 1, 1, 12, 0, 5)"
      ]
     },
     "execution_count": 220,
     "metadata": {},
     "output_type": "execute_result"
    }
   ],
   "source": [
    "parse('2018-01-01 12:00:05')"
   ]
  },
  {
   "cell_type": "code",
   "execution_count": 221,
   "metadata": {},
   "outputs": [
    {
     "data": {
      "text/plain": [
       "datetime.datetime(2017, 1, 6, 0, 0)"
      ]
     },
     "execution_count": 221,
     "metadata": {},
     "output_type": "execute_result"
    }
   ],
   "source": [
    "parse('6/1/2017',dayfirst=True)"
   ]
  },
  {
   "cell_type": "code",
   "execution_count": 222,
   "metadata": {},
   "outputs": [],
   "source": [
    "import pandas as pd"
   ]
  },
  {
   "cell_type": "code",
   "execution_count": 223,
   "metadata": {},
   "outputs": [],
   "source": [
    "test = ['20180101','20180102' , None]"
   ]
  },
  {
   "cell_type": "code",
   "execution_count": 224,
   "metadata": {},
   "outputs": [
    {
     "data": {
      "text/plain": [
       "DatetimeIndex(['2018-01-01', '2018-01-02', 'NaT'], dtype='datetime64[ns]', freq=None)"
      ]
     },
     "execution_count": 224,
     "metadata": {},
     "output_type": "execute_result"
    }
   ],
   "source": [
    "pd.to_datetime(test)"
   ]
  },
  {
   "cell_type": "markdown",
   "metadata": {},
   "source": [
    "## date_range时间切片\n",
    "* 主要的参数：\n",
    "* pd.date_range(start=None, end=None, periods=None, freq=None, tz=None, normalize=False, name=None, closed=None, **kwargs)\n",
    "* start: 开始时间\n",
    "* end: 结束时间\n",
    "* periods: 周期,即输出个数\n",
    "* freq: 时间间隔\n",
    "* normalize: 是否规范化到午夜"
   ]
  },
  {
   "cell_type": "code",
   "execution_count": 225,
   "metadata": {
    "scrolled": false
   },
   "outputs": [
    {
     "name": "stdout",
     "output_type": "stream",
     "text": [
      "2018-01-01 00:00:00\n",
      "2018-01-02 00:00:00\n",
      "2018-01-03 00:00:00\n",
      "2018-01-04 00:00:00\n",
      "2018-01-05 00:00:00\n"
     ]
    }
   ],
   "source": [
    "for date in pd.date_range('20180101',periods=5,freq='1d'):\n",
    "    print(date)"
   ]
  },
  {
   "cell_type": "code",
   "execution_count": 226,
   "metadata": {},
   "outputs": [],
   "source": [
    "import numpy as np"
   ]
  },
  {
   "cell_type": "code",
   "execution_count": 227,
   "metadata": {},
   "outputs": [],
   "source": [
    "s = pd.Series(np.random.randn(10),pd.date_range('20180101',periods=10))"
   ]
  },
  {
   "cell_type": "code",
   "execution_count": 228,
   "metadata": {},
   "outputs": [
    {
     "data": {
      "text/plain": [
       "2018-01-01    0.458544\n",
       "2018-01-02    2.031096\n",
       "2018-01-03    0.608081\n",
       "2018-01-04   -0.030694\n",
       "2018-01-05    1.294916\n",
       "2018-01-06   -1.502905\n",
       "2018-01-07    1.263865\n",
       "2018-01-08    0.551192\n",
       "2018-01-09   -2.216100\n",
       "2018-01-10   -1.189207\n",
       "Freq: D, dtype: float64"
      ]
     },
     "execution_count": 228,
     "metadata": {},
     "output_type": "execute_result"
    }
   ],
   "source": [
    "s"
   ]
  },
  {
   "cell_type": "code",
   "execution_count": 229,
   "metadata": {},
   "outputs": [
    {
     "data": {
      "text/plain": [
       "2018-01-02    2.031096\n",
       "2018-01-03    0.608081\n",
       "2018-01-04   -0.030694\n",
       "2018-01-05    1.294916\n",
       "Freq: D, dtype: float64"
      ]
     },
     "execution_count": 229,
     "metadata": {},
     "output_type": "execute_result"
    }
   ],
   "source": [
    "s['20180102':'20180105']"
   ]
  },
  {
   "cell_type": "markdown",
   "metadata": {},
   "source": [
    "## resample重采样\n",
    "\n",
    "* series.resample(rule, how=None, axis=0, fill_method=None, closed=None, label=None, convention='start', kind=None, loffset=None, limit=None, base=0, on=None, level=None)\n",
    "\n",
    "* 主要参数说明\n",
    "    * freq： 表示重采样频率的字符串或DateOffset,例如'M'、'5min'或 Second(15)\n",
    "    * how='mean' : 用于产生聚合值的函数名或数组函数，例如'mean'  'ohlc'.np.max等。默认为'mean'.\n",
    "    * axis=0 : 其他常用的值有: 'first'、 'last'、 'median'、'ohlc'. 'max'、 'min'重采样的轴，默认为axis=0\n",
    "    * fill_method=None : 升采样时如何插值，比如'fil'或'bill',默认不插值\n",
    "    * closed='right' : 在降采样中，各时间段的哪一端是闭合(即包含)的，'right'或\"left'。默认为right'\n",
    "    * label='right' : 在降采样中，如何设置聚合值的标签，'right'或'left' (面元的右边界或左边界)。例如，9:30到9:35之间的这5分钟会被标记为9:30或9:35.默认为'right' "
   ]
  },
  {
   "cell_type": "code",
   "execution_count": 230,
   "metadata": {},
   "outputs": [
    {
     "data": {
      "text/plain": [
       "2008-01-01    0\n",
       "2008-01-02    1\n",
       "2008-01-03    2\n",
       "2008-01-04    3\n",
       "2008-01-05    4\n",
       "2008-01-06    5\n",
       "2008-01-07    6\n",
       "2008-01-08    7\n",
       "2008-01-09    8\n",
       "2008-01-10    9\n",
       "Freq: D, dtype: int64"
      ]
     },
     "execution_count": 230,
     "metadata": {},
     "output_type": "execute_result"
    }
   ],
   "source": [
    "index = pd.date_range('2008-01-01', periods=10, freq='d')\n",
    "series = pd.Series(range(10), index=index)\n",
    "series"
   ]
  },
  {
   "cell_type": "markdown",
   "metadata": {},
   "source": [
    "### 降低频率"
   ]
  },
  {
   "cell_type": "code",
   "execution_count": 231,
   "metadata": {},
   "outputs": [
    {
     "data": {
      "text/plain": [
       "2008-01-01     3\n",
       "2008-01-04    12\n",
       "2008-01-07    21\n",
       "2008-01-10     9\n",
       "Freq: 3D, dtype: int64"
      ]
     },
     "execution_count": 231,
     "metadata": {},
     "output_type": "execute_result"
    }
   ],
   "source": [
    "series.resample('3d').sum()"
   ]
  },
  {
   "cell_type": "code",
   "execution_count": 232,
   "metadata": {
    "scrolled": false
   },
   "outputs": [
    {
     "data": {
      "text/plain": [
       "2008-01-04     3\n",
       "2008-01-07    12\n",
       "2008-01-10    21\n",
       "2008-01-13     9\n",
       "Freq: 3D, dtype: int64"
      ]
     },
     "execution_count": 232,
     "metadata": {},
     "output_type": "execute_result"
    }
   ],
   "source": [
    "series.resample('3d',label='right').sum()"
   ]
  },
  {
   "cell_type": "code",
   "execution_count": 233,
   "metadata": {},
   "outputs": [
    {
     "data": {
      "text/plain": [
       "2008-01-04     3\n",
       "2008-01-07    12\n",
       "2008-01-10    21\n",
       "2008-01-13     9\n",
       "Freq: 3D, dtype: int64"
      ]
     },
     "execution_count": 233,
     "metadata": {},
     "output_type": "execute_result"
    }
   ],
   "source": [
    "series.resample('3d',label='right',closed='left').sum()"
   ]
  },
  {
   "cell_type": "code",
   "execution_count": 234,
   "metadata": {
    "scrolled": true
   },
   "outputs": [
    {
     "data": {
      "text/plain": [
       "2008-01-01     0\n",
       "2008-01-04     6\n",
       "2008-01-07    15\n",
       "2008-01-10    24\n",
       "Freq: 3D, dtype: int64"
      ]
     },
     "execution_count": 234,
     "metadata": {},
     "output_type": "execute_result"
    }
   ],
   "source": [
    "series.resample('3d',label='right',closed='right').sum()"
   ]
  },
  {
   "cell_type": "markdown",
   "metadata": {},
   "source": [
    "### 按给定频率补充缺失"
   ]
  },
  {
   "cell_type": "code",
   "execution_count": 190,
   "metadata": {
    "scrolled": true
   },
   "outputs": [
    {
     "data": {
      "text/plain": [
       "2008-01-01 00:00:00    0.0\n",
       "2008-01-01 12:00:00    NaN\n",
       "2008-01-02 00:00:00    1.0\n",
       "2008-01-02 12:00:00    NaN\n",
       "2008-01-03 00:00:00    2.0\n",
       "2008-01-03 12:00:00    NaN\n",
       "2008-01-04 00:00:00    3.0\n",
       "2008-01-04 12:00:00    NaN\n",
       "2008-01-05 00:00:00    4.0\n",
       "2008-01-05 12:00:00    NaN\n",
       "2008-01-06 00:00:00    5.0\n",
       "2008-01-06 12:00:00    NaN\n",
       "2008-01-07 00:00:00    6.0\n",
       "2008-01-07 12:00:00    NaN\n",
       "2008-01-08 00:00:00    7.0\n",
       "2008-01-08 12:00:00    NaN\n",
       "2008-01-09 00:00:00    8.0\n",
       "2008-01-09 12:00:00    NaN\n",
       "2008-01-10 00:00:00    9.0\n",
       "Freq: 12H, dtype: float64"
      ]
     },
     "execution_count": 190,
     "metadata": {},
     "output_type": "execute_result"
    }
   ],
   "source": [
    "series.resample('12H').asfreq()"
   ]
  },
  {
   "cell_type": "code",
   "execution_count": 204,
   "metadata": {},
   "outputs": [
    {
     "data": {
      "text/plain": [
       "2008-01-01 00:00:00    0\n",
       "2008-01-01 12:00:00    0\n",
       "2008-01-02 00:00:00    1\n",
       "2008-01-02 12:00:00    1\n",
       "2008-01-03 00:00:00    2\n",
       "2008-01-03 12:00:00    2\n",
       "2008-01-04 00:00:00    3\n",
       "2008-01-04 12:00:00    3\n",
       "2008-01-05 00:00:00    4\n",
       "2008-01-05 12:00:00    4\n",
       "2008-01-06 00:00:00    5\n",
       "2008-01-06 12:00:00    5\n",
       "2008-01-07 00:00:00    6\n",
       "2008-01-07 12:00:00    6\n",
       "2008-01-08 00:00:00    7\n",
       "2008-01-08 12:00:00    7\n",
       "2008-01-09 00:00:00    8\n",
       "2008-01-09 12:00:00    8\n",
       "2008-01-10 00:00:00    9\n",
       "Freq: 12H, dtype: int64"
      ]
     },
     "execution_count": 204,
     "metadata": {},
     "output_type": "execute_result"
    }
   ],
   "source": [
    "#用上一个值填充\n",
    "series.resample('12H').pad()"
   ]
  },
  {
   "cell_type": "code",
   "execution_count": 205,
   "metadata": {},
   "outputs": [
    {
     "data": {
      "text/plain": [
       "2008-01-01 00:00:00    0\n",
       "2008-01-01 12:00:00    1\n",
       "2008-01-02 00:00:00    1\n",
       "2008-01-02 12:00:00    2\n",
       "2008-01-03 00:00:00    2\n",
       "2008-01-03 12:00:00    3\n",
       "2008-01-04 00:00:00    3\n",
       "2008-01-04 12:00:00    4\n",
       "2008-01-05 00:00:00    4\n",
       "2008-01-05 12:00:00    5\n",
       "2008-01-06 00:00:00    5\n",
       "2008-01-06 12:00:00    6\n",
       "2008-01-07 00:00:00    6\n",
       "2008-01-07 12:00:00    7\n",
       "2008-01-08 00:00:00    7\n",
       "2008-01-08 12:00:00    8\n",
       "2008-01-09 00:00:00    8\n",
       "2008-01-09 12:00:00    9\n",
       "2008-01-10 00:00:00    9\n",
       "Freq: 12H, dtype: int64"
      ]
     },
     "execution_count": 205,
     "metadata": {},
     "output_type": "execute_result"
    }
   ],
   "source": [
    "#用下一个值填充\n",
    "series.resample('12H').bfill()"
   ]
  },
  {
   "cell_type": "code",
   "execution_count": 192,
   "metadata": {
    "scrolled": false
   },
   "outputs": [
    {
     "data": {
      "text/plain": [
       "2008-01-01    0\n",
       "2008-01-02    1\n",
       "2008-01-03    2\n",
       "2008-01-04    3\n",
       "2008-01-05    4\n",
       "2008-01-06    5\n",
       "2008-01-07    6\n",
       "2008-01-08    7\n",
       "2008-01-09    8\n",
       "2008-01-10    9\n",
       "Freq: D, dtype: int64"
      ]
     },
     "execution_count": 192,
     "metadata": {},
     "output_type": "execute_result"
    }
   ],
   "source": [
    "series"
   ]
  },
  {
   "cell_type": "markdown",
   "metadata": {},
   "source": [
    "### 截取"
   ]
  },
  {
   "cell_type": "code",
   "execution_count": 235,
   "metadata": {},
   "outputs": [
    {
     "data": {
      "text/plain": [
       "2008-01-01    0\n",
       "2008-01-02    1\n",
       "2008-01-03    2\n",
       "2008-01-04    3\n",
       "Freq: D, dtype: int64"
      ]
     },
     "execution_count": 235,
     "metadata": {},
     "output_type": "execute_result"
    }
   ],
   "source": [
    "series.truncate(after='2008-01-04')"
   ]
  },
  {
   "cell_type": "code",
   "execution_count": 241,
   "metadata": {},
   "outputs": [],
   "source": [
    "import time"
   ]
  },
  {
   "cell_type": "code",
   "execution_count": 248,
   "metadata": {},
   "outputs": [
    {
     "data": {
      "text/plain": [
       "datetime.datetime(2009, 2, 14, 7, 31, 30)"
      ]
     },
     "execution_count": 248,
     "metadata": {},
     "output_type": "execute_result"
    }
   ],
   "source": [
    "datetime.strptime(time.ctime(1234567890),'%a %b %d %H:%M:%S %Y')"
   ]
  },
  {
   "cell_type": "markdown",
   "metadata": {},
   "source": [
    "## period"
   ]
  },
  {
   "cell_type": "code",
   "execution_count": 262,
   "metadata": {},
   "outputs": [],
   "source": [
    "p = pd.Period('2008',freq='A-JUN')"
   ]
  },
  {
   "cell_type": "code",
   "execution_count": 263,
   "metadata": {},
   "outputs": [
    {
     "data": {
      "text/plain": [
       "Period('2007-07', 'M')"
      ]
     },
     "execution_count": 263,
     "metadata": {},
     "output_type": "execute_result"
    }
   ],
   "source": [
    "p.asfreq('M',how='start')"
   ]
  },
  {
   "cell_type": "code",
   "execution_count": 264,
   "metadata": {},
   "outputs": [
    {
     "data": {
      "text/plain": [
       "Period('2008-06', 'M')"
      ]
     },
     "execution_count": 264,
     "metadata": {},
     "output_type": "execute_result"
    }
   ],
   "source": [
    "p.asfreq('M',how='end')"
   ]
  },
  {
   "cell_type": "code",
   "execution_count": 265,
   "metadata": {},
   "outputs": [],
   "source": [
    "P = pd.period_range('2001','2003',freq='A-NOV')"
   ]
  },
  {
   "cell_type": "code",
   "execution_count": 266,
   "metadata": {},
   "outputs": [
    {
     "data": {
      "text/plain": [
       "PeriodIndex(['2001', '2002', '2003'], dtype='period[A-NOV]', freq='A-NOV')"
      ]
     },
     "execution_count": 266,
     "metadata": {},
     "output_type": "execute_result"
    }
   ],
   "source": [
    "P"
   ]
  },
  {
   "cell_type": "code",
   "execution_count": 267,
   "metadata": {},
   "outputs": [
    {
     "data": {
      "text/plain": [
       "PeriodIndex(['2000-12', '2001-12', '2002-12'], dtype='period[M]', freq='M')"
      ]
     },
     "execution_count": 267,
     "metadata": {},
     "output_type": "execute_result"
    }
   ],
   "source": [
    "P.asfreq('M',how='start')"
   ]
  },
  {
   "cell_type": "code",
   "execution_count": 268,
   "metadata": {},
   "outputs": [
    {
     "data": {
      "text/plain": [
       "PeriodIndex(['2001-11', '2002-11', '2003-11'], dtype='period[M]', freq='M')"
      ]
     },
     "execution_count": 268,
     "metadata": {},
     "output_type": "execute_result"
    }
   ],
   "source": [
    "P.asfreq('M',how='end')"
   ]
  },
  {
   "cell_type": "code",
   "execution_count": 269,
   "metadata": {},
   "outputs": [
    {
     "data": {
      "text/plain": [
       "3"
      ]
     },
     "execution_count": 269,
     "metadata": {},
     "output_type": "execute_result"
    }
   ],
   "source": [
    "len(P)"
   ]
  },
  {
   "cell_type": "code",
   "execution_count": 271,
   "metadata": {},
   "outputs": [],
   "source": [
    "ts = pd.Series(np.random.randn(len(P)),index=P)"
   ]
  },
  {
   "cell_type": "code",
   "execution_count": 272,
   "metadata": {},
   "outputs": [
    {
     "data": {
      "text/plain": [
       "2001   -0.450338\n",
       "2002   -0.340768\n",
       "2003    0.155203\n",
       "Freq: A-NOV, dtype: float64"
      ]
     },
     "execution_count": 272,
     "metadata": {},
     "output_type": "execute_result"
    }
   ],
   "source": [
    "ts"
   ]
  },
  {
   "cell_type": "code",
   "execution_count": 273,
   "metadata": {},
   "outputs": [
    {
     "data": {
      "text/plain": [
       "2000-12   -0.450338\n",
       "2001-12   -0.340768\n",
       "2002-12    0.155203\n",
       "Freq: M, dtype: float64"
      ]
     },
     "execution_count": 273,
     "metadata": {},
     "output_type": "execute_result"
    }
   ],
   "source": [
    "ts.asfreq('M',how='start')"
   ]
  },
  {
   "cell_type": "code",
   "execution_count": 274,
   "metadata": {},
   "outputs": [
    {
     "data": {
      "text/plain": [
       "2001-11   -0.450338\n",
       "2002-11   -0.340768\n",
       "2003-11    0.155203\n",
       "Freq: M, dtype: float64"
      ]
     },
     "execution_count": 274,
     "metadata": {},
     "output_type": "execute_result"
    }
   ],
   "source": [
    "ts.asfreq('M',how='end')"
   ]
  },
  {
   "cell_type": "code",
   "execution_count": 285,
   "metadata": {},
   "outputs": [],
   "source": [
    "rng = pd.date_range('200101',periods=10,freq='M')"
   ]
  },
  {
   "cell_type": "code",
   "execution_count": 286,
   "metadata": {},
   "outputs": [
    {
     "data": {
      "text/plain": [
       "DatetimeIndex(['2001-01-31', '2001-02-28', '2001-03-31', '2001-04-30',\n",
       "               '2001-05-31', '2001-06-30', '2001-07-31', '2001-08-31',\n",
       "               '2001-09-30', '2001-10-31'],\n",
       "              dtype='datetime64[ns]', freq='M')"
      ]
     },
     "execution_count": 286,
     "metadata": {},
     "output_type": "execute_result"
    }
   ],
   "source": [
    "rng"
   ]
  },
  {
   "cell_type": "code",
   "execution_count": 287,
   "metadata": {},
   "outputs": [],
   "source": [
    "ts = pd.Series(range(10),index=rng)"
   ]
  },
  {
   "cell_type": "code",
   "execution_count": 288,
   "metadata": {},
   "outputs": [
    {
     "data": {
      "text/plain": [
       "2001-01-31    0\n",
       "2001-02-28    1\n",
       "2001-03-31    2\n",
       "2001-04-30    3\n",
       "2001-05-31    4\n",
       "2001-06-30    5\n",
       "2001-07-31    6\n",
       "2001-08-31    7\n",
       "2001-09-30    8\n",
       "2001-10-31    9\n",
       "Freq: M, dtype: int64"
      ]
     },
     "execution_count": 288,
     "metadata": {},
     "output_type": "execute_result"
    }
   ],
   "source": [
    "ts"
   ]
  },
  {
   "cell_type": "code",
   "execution_count": 289,
   "metadata": {},
   "outputs": [],
   "source": [
    "pts = ts.to_period()"
   ]
  },
  {
   "cell_type": "code",
   "execution_count": 290,
   "metadata": {},
   "outputs": [
    {
     "data": {
      "text/plain": [
       "2001-01    0\n",
       "2001-02    1\n",
       "2001-03    2\n",
       "2001-04    3\n",
       "2001-05    4\n",
       "2001-06    5\n",
       "2001-07    6\n",
       "2001-08    7\n",
       "2001-09    8\n",
       "2001-10    9\n",
       "Freq: M, dtype: int64"
      ]
     },
     "execution_count": 290,
     "metadata": {},
     "output_type": "execute_result"
    }
   ],
   "source": [
    "pts"
   ]
  },
  {
   "cell_type": "markdown",
   "metadata": {},
   "source": [
    "## time "
   ]
  },
  {
   "cell_type": "markdown",
   "metadata": {},
   "source": [
    "### asctime\n",
    "* 时间数组转成可读形式"
   ]
  },
  {
   "cell_type": "code",
   "execution_count": 306,
   "metadata": {},
   "outputs": [],
   "source": [
    "t1 = time.localtime()"
   ]
  },
  {
   "cell_type": "code",
   "execution_count": 307,
   "metadata": {
    "scrolled": true
   },
   "outputs": [
    {
     "data": {
      "text/plain": [
       "time.struct_time(tm_year=2018, tm_mon=8, tm_mday=16, tm_hour=14, tm_min=16, tm_sec=26, tm_wday=3, tm_yday=228, tm_isdst=0)"
      ]
     },
     "execution_count": 307,
     "metadata": {},
     "output_type": "execute_result"
    }
   ],
   "source": [
    "t1"
   ]
  },
  {
   "cell_type": "code",
   "execution_count": 310,
   "metadata": {},
   "outputs": [
    {
     "data": {
      "text/plain": [
       "'Thu Aug 16 14:16:26 2018'"
      ]
     },
     "execution_count": 310,
     "metadata": {},
     "output_type": "execute_result"
    }
   ],
   "source": [
    "time.asctime(t1)"
   ]
  },
  {
   "cell_type": "code",
   "execution_count": 319,
   "metadata": {},
   "outputs": [],
   "source": [
    "t2 = (2018,5,27,1,5,27,6,147,-1)"
   ]
  },
  {
   "cell_type": "code",
   "execution_count": 320,
   "metadata": {},
   "outputs": [
    {
     "data": {
      "text/plain": [
       "'Sun May 27 01:05:27 2018'"
      ]
     },
     "execution_count": 320,
     "metadata": {},
     "output_type": "execute_result"
    }
   ],
   "source": [
    "time.asctime(t2)"
   ]
  },
  {
   "cell_type": "markdown",
   "metadata": {},
   "source": [
    "### ctime\n",
    "* 无参数是，返回当前时间点的字符串\n",
    "* 传入参数时，把按秒计算的浮点数时间戳转化成asctime形式\n",
    "* 可利用strptime转化成datetime格式"
   ]
  },
  {
   "cell_type": "code",
   "execution_count": 333,
   "metadata": {},
   "outputs": [
    {
     "data": {
      "text/plain": [
       "'Thu Aug 16 14:35:01 2018'"
      ]
     },
     "execution_count": 333,
     "metadata": {},
     "output_type": "execute_result"
    }
   ],
   "source": [
    "time.ctime()"
   ]
  },
  {
   "cell_type": "code",
   "execution_count": 334,
   "metadata": {},
   "outputs": [
    {
     "data": {
      "text/plain": [
       "'Sun May 24 05:21:18 1970'"
      ]
     },
     "execution_count": 334,
     "metadata": {},
     "output_type": "execute_result"
    }
   ],
   "source": [
    "time.ctime(12345678)"
   ]
  },
  {
   "cell_type": "code",
   "execution_count": 335,
   "metadata": {},
   "outputs": [
    {
     "data": {
      "text/plain": [
       "datetime.datetime(1970, 5, 24, 5, 21, 18)"
      ]
     },
     "execution_count": 335,
     "metadata": {},
     "output_type": "execute_result"
    }
   ],
   "source": [
    "datetime.strptime(time.ctime(12345678),'%a %b %d %H:%M:%S %Y')"
   ]
  },
  {
   "cell_type": "markdown",
   "metadata": {},
   "source": [
    "### gmtime\n",
    "* 用法与ctime类似，按秒计算的浮点数时间戳转化成struct_time"
   ]
  },
  {
   "cell_type": "code",
   "execution_count": 340,
   "metadata": {},
   "outputs": [
    {
     "data": {
      "text/plain": [
       "time.struct_time(tm_year=2018, tm_mon=8, tm_mday=16, tm_hour=6, tm_min=39, tm_sec=25, tm_wday=3, tm_yday=228, tm_isdst=0)"
      ]
     },
     "execution_count": 340,
     "metadata": {},
     "output_type": "execute_result"
    }
   ],
   "source": [
    "time.gmtime()"
   ]
  },
  {
   "cell_type": "code",
   "execution_count": 341,
   "metadata": {},
   "outputs": [
    {
     "data": {
      "text/plain": [
       "time.struct_time(tm_year=1970, tm_mon=5, tm_mday=23, tm_hour=21, tm_min=21, tm_sec=18, tm_wday=5, tm_yday=143, tm_isdst=0)"
      ]
     },
     "execution_count": 341,
     "metadata": {},
     "output_type": "execute_result"
    }
   ],
   "source": [
    "time.gmtime(12345678)"
   ]
  },
  {
   "cell_type": "markdown",
   "metadata": {},
   "source": [
    "### loacltime\n",
    "* 格式化时间戳为本地的时间"
   ]
  },
  {
   "cell_type": "code",
   "execution_count": 347,
   "metadata": {},
   "outputs": [],
   "source": [
    "localtime = time.localtime()"
   ]
  },
  {
   "cell_type": "code",
   "execution_count": 345,
   "metadata": {},
   "outputs": [
    {
     "data": {
      "text/plain": [
       "2018"
      ]
     },
     "execution_count": 345,
     "metadata": {},
     "output_type": "execute_result"
    }
   ],
   "source": [
    "a.tm_year"
   ]
  },
  {
   "cell_type": "code",
   "execution_count": 348,
   "metadata": {},
   "outputs": [
    {
     "data": {
      "text/plain": [
       "time.struct_time(tm_year=2018, tm_mon=8, tm_mday=16, tm_hour=14, tm_min=51, tm_sec=0, tm_wday=3, tm_yday=228, tm_isdst=0)"
      ]
     },
     "execution_count": 348,
     "metadata": {},
     "output_type": "execute_result"
    }
   ],
   "source": [
    "localtime"
   ]
  },
  {
   "cell_type": "code",
   "execution_count": 349,
   "metadata": {},
   "outputs": [
    {
     "data": {
      "text/plain": [
       "16"
      ]
     },
     "execution_count": 349,
     "metadata": {},
     "output_type": "execute_result"
    }
   ],
   "source": [
    "localtime.tm_mday"
   ]
  }
 ],
 "metadata": {
  "kernelspec": {
   "display_name": "Python 3",
   "language": "python",
   "name": "python3"
  },
  "language_info": {
   "codemirror_mode": {
    "name": "ipython",
    "version": 3
   },
   "file_extension": ".py",
   "mimetype": "text/x-python",
   "name": "python",
   "nbconvert_exporter": "python",
   "pygments_lexer": "ipython3",
   "version": "3.6.5"
  },
  "toc": {
   "base_numbering": 1,
   "nav_menu": {},
   "number_sections": true,
   "sideBar": true,
   "skip_h1_title": false,
   "title_cell": "Table of Contents",
   "title_sidebar": "Contents",
   "toc_cell": false,
   "toc_position": {
    "height": "calc(100% - 180px)",
    "left": "10px",
    "top": "150px",
    "width": "273px"
   },
   "toc_section_display": true,
   "toc_window_display": true
  }
 },
 "nbformat": 4,
 "nbformat_minor": 2
}
