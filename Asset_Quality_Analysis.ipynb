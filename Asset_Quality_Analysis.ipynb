{
 "cells": [
  {
   "cell_type": "markdown",
   "metadata": {},
   "source": [
    "* 本文主要是以分期产品为例，简单介绍一下，信贷产品的资产质量分析内容，共分为三部分:经营状况、资产滚动率、资产成熟度。\n",
    "\n",
    "# 总体趋势分析\n",
    "\n",
    "## 客户维度\n",
    "* 申请授信额度的用户数(也可以看下被驳回的原因分布情况）\n",
    "* 通过授信申请的用户数\n",
    "* 成功借贷的用户数及转化率\n",
    "* 客群分析(客群维度较多，可选取主要的维度进行分析）\n",
    "\n",
    "在计算转化率时，对应的时间应该以用户为追踪目标，不可直接用本月借贷人数/本月授信成功人数"
   ]
  },
  {
   "cell_type": "markdown",
   "metadata": {},
   "source": [
    "## 交易维度\n",
    "* 每月发放金额、发放借据数量、笔均借贷额度\n",
    "* 每月实际回收金额\n",
    "* 截止每月的累计贷款余额\n",
    "* 截止每月的累计逾期贷款余额（分大小口径）\n",
    "* 截止每月的累计不良金额（分大小口径）\n",
    "\n",
    "小口径：只计算到期部分；大口径：未到期部分也需要计算进去\n",
    "* 例如：用户A借了6期，每期1000元，截止1月，第一期到期未还，发生逾期，则A的逾期金额为：小口径：1000元，大口径：6000元"
   ]
  },
  {
   "cell_type": "markdown",
   "metadata": {},
   "source": [
    "## 产品维度\n",
    "* 期数分布\n",
    "* 与产品相关的其他维度"
   ]
  },
  {
   "cell_type": "markdown",
   "metadata": {},
   "source": [
    "## 逾期(不良)率的计算注意事项\n",
    "* 很多公司对于逾期率、不良率的定义都不同，在计算之前一定要先明确统计口径\n",
    "* 主要用到的数据：\n",
    "    * 分子： 小口径逾期金额、小口径不良金额、大口径逾期金额、大口径不良金额\n",
    "    * 分母： 贷款余额、发放总金额\n",
    "* 当公司的发放金额趋于平稳或者增速变缓时，分母为贷款余额的逾期率上升会非常明显"
   ]
  },
  {
   "cell_type": "markdown",
   "metadata": {},
   "source": [
    "# 资产滚动率\n",
    "* 分析和比较处于不同逾期状态的账户数的滚动率变化，可清晰的显示逾期数据的迁移变化细节\n",
    "* 在介绍滚动率之前，需要明确逾期状态的概念，如图所示\n",
    "* M:站在月底看客户当月是否还款，不考虑回迁\n",
    "* C:站在计息日看客户当月是否还款，不考虑回迁\n",
    "* T:站在计息日看客户当月是否还款，考虑回迁\n",
    "* 一般情况下，用M做资产的滚动率\n",
    "* 此处放逾期状态"
   ]
  },
  {
   "cell_type": "markdown",
   "metadata": {},
   "source": [
    "* 资产的滚动率分为金额滚动率和个数（借据数）滚动率，计算公式如下：\n",
    "* 此处放计算公式\n",
    "* 一般在计算金额滚动率时，是看整笔订单的状态，而不是看单期的状态，即大口径\n",
    "* 滚动率计算结果数据样例：\n",
    "* 此处放滚动率样例"
   ]
  },
  {
   "cell_type": "markdown",
   "metadata": {},
   "source": [
    "# 资产成熟度"
   ]
  },
  {
   "cell_type": "markdown",
   "metadata": {},
   "source": [
    "* 给定起息时间的账户，每个不同账龄的时间点上, 处在不同逾期状态的账户占比,研究贷款逾期随着时间推进的变化规律\n",
    "* 可将不同时期数据进行同步比较,将同期数据按照不同维度进行立体展现\n",
    "\n",
    "* 成熟度的分组维度为计息时间，即代发的月份，去追踪每个代发月份放出去的贷款在未来不同的账期的状态\n",
    "* 成熟度的分子为在该账期内逾期的借据数（或金额）,分母为该月代发总借据数（或总金额）\n",
    "* 成熟度计算结果数据样例：\n",
    "* 样图"
   ]
  },
  {
   "cell_type": "markdown",
   "metadata": {},
   "source": [
    "# 其他数据"
   ]
  },
  {
   "cell_type": "markdown",
   "metadata": {},
   "source": [
    "* 在做完以上数据的时候，我会在结合业务实际情况，加上一些自己比较关注的数据\n",
    "* 用户产品倾向及各产品的复贷情况\n",
    "* 收入构成分析：新老用户\n",
    "* 授信通过与成功借贷的时间间隔\n",
    "* 收入、利润相关数据"
   ]
  },
  {
   "cell_type": "code",
   "execution_count": null,
   "metadata": {},
   "outputs": [],
   "source": []
  },
  {
   "cell_type": "code",
   "execution_count": null,
   "metadata": {},
   "outputs": [],
   "source": []
  }
 ],
 "metadata": {
  "kernelspec": {
   "display_name": "Python 3",
   "language": "python",
   "name": "python3"
  },
  "language_info": {
   "codemirror_mode": {
    "name": "ipython",
    "version": 3
   },
   "file_extension": ".py",
   "mimetype": "text/x-python",
   "name": "python",
   "nbconvert_exporter": "python",
   "pygments_lexer": "ipython3",
   "version": "3.5.2"
  },
  "toc": {
   "nav_menu": {},
   "number_sections": true,
   "sideBar": true,
   "skip_h1_title": false,
   "toc_cell": false,
   "toc_position": {},
   "toc_section_display": "block",
   "toc_window_display": false
  }
 },
 "nbformat": 4,
 "nbformat_minor": 2
}
