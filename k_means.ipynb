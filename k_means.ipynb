{
 "cells": [
  {
   "cell_type": "markdown",
   "metadata": {},
   "source": [
    "## 聚类分析中常用的距离\n",
    "### 欧氏距离_有序属性(连续属性)\n",
    "* 在m维空间中两个点之间的真实距离，或者向量的自然长度（即该点到原点的距离）\n",
    "* 2维空间,坐标(x1, y1)与坐标(x2, y2)的欧氏距离与自然长度\n",
    "    * ρ=sqrt((x2-x1)²+(y2-y1)²); \n",
    "    * |X|=sqrt（x2²+y2²）\n",
    "* 3维空间,坐标(x1, y1,z1)与坐标(x2, y2,z2)的欧氏距离与自然长度\n",
    "    * ρ=sqrt((x2-x1)²+(y2-y1)²+(z2-z1)²);\n",
    "    * |X|=sqrt（x2²+y2²+z2²）\n",
    "* n维空间\n",
    "    * 两个点A=(a[1]，a[2]，…，a[n])和B=(b[1]，b[2]，…，b[n])的欧氏距离\n",
    "    * ρ(A，B) =sqrt[ ∑( a[i] - b[i] )² ] (i = 1，2，…，n)\n",
    "    * 向量 x=(x[1]，x[2]，…，x[n]) 的自然长度\n",
    "    * |x| = sqrt(x[1]²+ x[2]²+ … + x[n]²)"
   ]
  },
  {
   "cell_type": "markdown",
   "metadata": {},
   "source": [
    "### 曼哈顿距离_有序属性(连续属性)\n",
    "* 用以标明两个点在标准坐标系上的绝对轴距总和\n",
    "* 2维空间,两个点（x1, y1），（x2, y2）的曼哈顿距离\n",
    "    * d = |x1-x2|+|y1-y2|\n",
    "* n维空间,两个点A=(a[1]，a[2]，…，a[n])和B=(b[1]，b[2]，…，b[n])的曼哈顿距离\n",
    "    * d = ∑(a[i] - b[i]) (i = 1，2，…，n)"
   ]
  },
  {
   "cell_type": "markdown",
   "metadata": {},
   "source": [
    "* 距离举例图片"
   ]
  },
  {
   "cell_type": "markdown",
   "metadata": {},
   "source": [
    "### 闵可夫斯基距离_有序属性(连续属性)\n",
    "* 闵氏距离是对多个距离度量公式的概括性的表述\n",
    "* n维空间,两个点A=(a[1]，a[2]，…，a[n])和B=(b[1]，b[2]，…，b[n])的闵可夫斯基距离\n",
    "   * d = (∑(a[i] - b[i])^p)^(1/p) (i = 1，2，…，n)\n",
    "* 当p=2时，即为欧氏距离\n",
    "* 当p=1时，即为曼哈顿距离\n",
    "\n",
    "### VDM距离_无序属性（离散属性）\n",
    "\n",
    "* VDM距离是通过计算在某个属性上某种取值的样本数量占比来计算距离\n",
    "\n",
    "* Mu,a表示在属性u上取值为a的样本数，Mu,a,i表示在第i个样本簇中在属性u上取值为a的样本数,k为样本簇数，则属性u上两个离散值a与b的VDM距离\n",
    "    * d = ∑((Mu,a,i/Mu,a - Mu,b,i/Mu,b)^p )(i = 1，2，…，k)"
   ]
  },
  {
   "cell_type": "code",
   "execution_count": 1,
   "metadata": {},
   "outputs": [
    {
     "data": {
      "text/html": [
       "<div>\n",
       "<table border=\"1\" class=\"dataframe\">\n",
       "  <thead>\n",
       "    <tr style=\"text-align: right;\">\n",
       "      <th></th>\n",
       "      <th>a</th>\n",
       "      <th>b</th>\n",
       "      <th>c</th>\n",
       "      <th>簇</th>\n",
       "    </tr>\n",
       "  </thead>\n",
       "  <tbody>\n",
       "    <tr>\n",
       "      <th>0</th>\n",
       "      <td>100</td>\n",
       "      <td>200</td>\n",
       "      <td>300</td>\n",
       "      <td>1</td>\n",
       "    </tr>\n",
       "    <tr>\n",
       "      <th>1</th>\n",
       "      <td>200</td>\n",
       "      <td>300</td>\n",
       "      <td>400</td>\n",
       "      <td>2</td>\n",
       "    </tr>\n",
       "    <tr>\n",
       "      <th>2</th>\n",
       "      <td>300</td>\n",
       "      <td>400</td>\n",
       "      <td>500</td>\n",
       "      <td>3</td>\n",
       "    </tr>\n",
       "  </tbody>\n",
       "</table>\n",
       "</div>"
      ],
      "text/plain": [
       "     a    b    c  簇\n",
       "0  100  200  300  1\n",
       "1  200  300  400  2\n",
       "2  300  400  500  3"
      ]
     },
     "execution_count": 1,
     "metadata": {},
     "output_type": "execute_result"
    }
   ],
   "source": [
    "from pandas import DataFrame\n",
    "import pandas as pd\n",
    "import numpy as np\n",
    "\n",
    "df = pd.DataFrame({'簇':[1,2,3],'a':[100,200,300],'b':[200,300,400],'c':[300,400,500],})\n",
    "df"
   ]
  },
  {
   "cell_type": "markdown",
   "metadata": {},
   "source": [
    "p=2时，VDM距离如下\n",
    "\n",
    "a,b的距离："
   ]
  },
  {
   "cell_type": "code",
   "execution_count": 2,
   "metadata": {},
   "outputs": [
    {
     "data": {
      "text/plain": [
       "0.006172839506172843"
      ]
     },
     "execution_count": 2,
     "metadata": {},
     "output_type": "execute_result"
    }
   ],
   "source": [
    "np.square(100/600-200/900)+np.square(200/600-300/900)+np.square(300/600-400/900)"
   ]
  },
  {
   "cell_type": "markdown",
   "metadata": {},
   "source": [
    "b,c的距离"
   ]
  },
  {
   "cell_type": "code",
   "execution_count": 3,
   "metadata": {},
   "outputs": [
    {
     "data": {
      "text/plain": [
       "0.001543209876543208"
      ]
     },
     "execution_count": 3,
     "metadata": {},
     "output_type": "execute_result"
    }
   ],
   "source": [
    "np.square(300/1200-200/900)+np.square(400/1200-300/900)+np.square(500/1200-400/900)"
   ]
  },
  {
   "cell_type": "markdown",
   "metadata": {},
   "source": [
    "a,c的距离"
   ]
  },
  {
   "cell_type": "code",
   "execution_count": 4,
   "metadata": {},
   "outputs": [
    {
     "data": {
      "text/plain": [
       "0.013888888888888888"
      ]
     },
     "execution_count": 4,
     "metadata": {},
     "output_type": "execute_result"
    }
   ],
   "source": [
    "np.square(100/600-300/1200)+np.square(200/600-400/1200)+np.square(300/600-500/1200)"
   ]
  },
  {
   "cell_type": "markdown",
   "metadata": {},
   "source": [
    "## 混合使用\n",
    "* 当样本中既包含有序变量有包含无序变量时，可将闵可夫斯基距离与VDM距离混合使用"
   ]
  },
  {
   "cell_type": "markdown",
   "metadata": {},
   "source": [
    "* 混合距离图片"
   ]
  },
  {
   "cell_type": "markdown",
   "metadata": {},
   "source": [
    "## 聚类前准备工作－归一化\n",
    "* 聚类算法在计算距离前，为防止某些数据偏差过大问题，通常会先归一化\n",
    "* 归一化方法\n",
    "    * Standardization（zero_score）: 量化后的特征服从标准正态分布，将分布在[-1, 1]区间\n",
    "        * (x-u)/std,其中u为向量均值，std为标准差\n",
    "    * Min-Max Scaling： : 量化后的特征分布在[0, 1]区间\n",
    "        * （x-min）/(max-min)"
   ]
  },
  {
   "cell_type": "code",
   "execution_count": 5,
   "metadata": {},
   "outputs": [],
   "source": [
    "def normalization(df,var,method='min-max'):\n",
    "    x = df[var]\n",
    "    new_var = var + '_norm'\n",
    "    if method == 'min-max':\n",
    "        x_min = min(x)\n",
    "        x_max = max(x)\n",
    "        d = x_max - x_min\n",
    "        df[new_var] = [(i - x_min)*1.0/d for i in x]\n",
    "        del df[var]\n",
    "    elif method == 'zero-score':\n",
    "        x_mean = np.mean(x)\n",
    "        x_std = np.std(x)\n",
    "        df[new_var] = [(i - x_mean)*1.0 / x_std for i in x]\n",
    "        del df[var]\n",
    "    else:\n",
    "        print('请输入归一化方法')"
   ]
  },
  {
   "cell_type": "markdown",
   "metadata": {},
   "source": [
    "## k-means算法\n",
    "* 聚类算法是一种无监督的学习算法，通过对无标记训练样本的学习，将样本划分为若干不相交的样本簇\n",
    "* k_means算法基本原理\n",
    "    * 设定k值，并随机选取k个样本作为初始均值向量（质心）\n",
    "    * 将剩下的样本逐一与上述k各样本进行距离计算，并合并入最小距离的集合中，首次生成簇，并计算每一簇的均值向量\n",
    "    * 以新的均值向量作为初始均值向量，重复上述过程，直至样本簇不再变化，得到最终的簇划分\n",
    "\n",
    "### 1、确定k值\n",
    "* 根据业务设定\n",
    "* 肘部法则(并不常用）\n",
    "    * 肘部法则：成本函数最小化\n",
    "    * 成本函数是各个类畸变程度之和。每个类的畸变程度等于该类重心与其内部成员位置距离的平方和"
   ]
  },
  {
   "cell_type": "code",
   "execution_count": 6,
   "metadata": {},
   "outputs": [],
   "source": [
    "import random\n",
    "import numpy as np\n",
    "import matplotlib\n",
    "import matplotlib.pyplot as plt\n",
    "from matplotlib.ticker import FuncFormatter\n",
    "import seaborn\n",
    "plt.rcParams['font.family']=\"SimHei\"#显示中文字体\n",
    "from IPython.core.display import HTML,display\n",
    "from pandas import DataFrame\n",
    "import pandas as pd\n",
    "from sklearn.cluster import KMeans\n",
    "from scipy.spatial.distance import cdist"
   ]
  },
  {
   "cell_type": "code",
   "execution_count": 7,
   "metadata": {},
   "outputs": [],
   "source": [
    "def get_k(train_data,min_k=1,max_k=10):\n",
    "    train_array = np.array(train_data)\n",
    "    K = range(min_k, max_k)\n",
    "    mean_distortions = []\n",
    "    for k in K:#遍历K计算畸变\n",
    "        kmeans = KMeans(n_clusters=k)\n",
    "        kmeans.fit(train_array)\n",
    "        mean_distortions.append(sum(np.min(cdist(train_array, kmeans.cluster_centers_, 'euclidean'), axis=1)) / train_data.shape[0])#此处用欧氏距离\n",
    "    plt.plot(K, mean_distortions, 'bx-')\n",
    "    plt.xlabel('k取值')\n",
    "    plt.ylabel('平均畸变程度')\n",
    "    plt.title('用肘部法则来确定最佳的K值');\n",
    "    plt.show();\n",
    "    return mean_distortions"
   ]
  },
  {
   "cell_type": "markdown",
   "metadata": {},
   "source": [
    "### 2、定义距离函数"
   ]
  },
  {
   "cell_type": "code",
   "execution_count": 8,
   "metadata": {},
   "outputs": [],
   "source": [
    "def minkovDist(x,y,p=2):\n",
    "    if p>=1:\n",
    "#         return sum((x-y)**p)**(1/p)\n",
    "        return np.linalg.norm(x-y,ord=p)\n",
    "    else:\n",
    "        print('p must be larger than or equal to 1')"
   ]
  },
  {
   "cell_type": "markdown",
   "metadata": {},
   "source": [
    "### 3、定义训练模型函数"
   ]
  },
  {
   "cell_type": "code",
   "execution_count": 9,
   "metadata": {},
   "outputs": [],
   "source": [
    "def KmensAlgo(train_data,k,p=2):\n",
    "    # train_data: 训练样本此处为table形式（我日常比较常用）\n",
    "    # k: 簇数\n",
    "    # 函数结果：返回两个参数，分别为训练集的分簇结果及质心\n",
    "    \n",
    "    train_array = np.array(train_data)\n",
    "    length = len(train_data)\n",
    "    # 随机选取k个质心\n",
    "    random_iloc = random.sample(range(length),k)\n",
    "    cent = [train_array[i] for i in random_iloc]\n",
    "    # 定义一个list,用来储存每行所属簇\n",
    "    position_list = [0]*length\n",
    "    changed = True\n",
    "    while changed:\n",
    "        # 计算每个点到质心的距离，选出最短距离并进行簇归类\n",
    "        for i in range(length):\n",
    "            dist_to_cent = [minkovDist(train_array[i],cent_value) for cent_value in cent]\n",
    "            positin = dist_to_cent.index(min(dist_to_cent))\n",
    "            position_list[i] = positin\n",
    "        # 更新质心\n",
    "        for j in range(k):\n",
    "            now_position = [l for l in range(length) if position_list[l]==j]\n",
    "            new_cents = np.mean([train_data.iloc[l] for l in now_position],axis=0)#每簇的数据均值作为新的质心\n",
    "            if (minkovDist(new_cents,cent[j]))>=0.00001:#检查质心是否变化\n",
    "                cent[j] = new_cents\n",
    "                changed=True\n",
    "            else:\n",
    "                changed=False\n",
    "                print(str(j)+'簇质心已更新完毕')\n",
    "    return position_list,cent"
   ]
  },
  {
   "cell_type": "markdown",
   "metadata": {},
   "source": [
    "### 4、测试集分类结果"
   ]
  },
  {
   "cell_type": "code",
   "execution_count": 10,
   "metadata": {},
   "outputs": [],
   "source": [
    "def predit(test_df,cent):\n",
    "    test_array = np.array(test_df)\n",
    "    position_list = [0]*len(test_array)\n",
    "    for i in range(len(test_array)):\n",
    "        dist_to_cent = [minkovDist(test_array[i],cent_value) for cent_value in cent]\n",
    "        positin = dist_to_cent.index(min(dist_to_cent))\n",
    "        position_list[i] = positin\n",
    "    return position_list"
   ]
  },
  {
   "cell_type": "markdown",
   "metadata": {},
   "source": [
    "### 5、模型结果"
   ]
  },
  {
   "cell_type": "code",
   "execution_count": 11,
   "metadata": {},
   "outputs": [
    {
     "data": {
      "text/html": [
       "<div>\n",
       "<table border=\"1\" class=\"dataframe\">\n",
       "  <thead>\n",
       "    <tr style=\"text-align: right;\">\n",
       "      <th></th>\n",
       "      <th>0</th>\n",
       "      <th>1</th>\n",
       "    </tr>\n",
       "  </thead>\n",
       "  <tbody>\n",
       "    <tr>\n",
       "      <th>0</th>\n",
       "      <td>1.827724</td>\n",
       "      <td>1.865160</td>\n",
       "    </tr>\n",
       "    <tr>\n",
       "      <th>1</th>\n",
       "      <td>1.236853</td>\n",
       "      <td>1.138610</td>\n",
       "    </tr>\n",
       "    <tr>\n",
       "      <th>2</th>\n",
       "      <td>1.608795</td>\n",
       "      <td>1.163853</td>\n",
       "    </tr>\n",
       "    <tr>\n",
       "      <th>3</th>\n",
       "      <td>1.209080</td>\n",
       "      <td>1.924797</td>\n",
       "    </tr>\n",
       "    <tr>\n",
       "      <th>4</th>\n",
       "      <td>1.897677</td>\n",
       "      <td>1.130945</td>\n",
       "    </tr>\n",
       "    <tr>\n",
       "      <th>5</th>\n",
       "      <td>1.227030</td>\n",
       "      <td>1.612169</td>\n",
       "    </tr>\n",
       "    <tr>\n",
       "      <th>6</th>\n",
       "      <td>1.233422</td>\n",
       "      <td>1.880208</td>\n",
       "    </tr>\n",
       "    <tr>\n",
       "      <th>7</th>\n",
       "      <td>1.536948</td>\n",
       "      <td>1.081214</td>\n",
       "    </tr>\n",
       "    <tr>\n",
       "      <th>8</th>\n",
       "      <td>1.627881</td>\n",
       "      <td>1.856679</td>\n",
       "    </tr>\n",
       "    <tr>\n",
       "      <th>9</th>\n",
       "      <td>1.985797</td>\n",
       "      <td>1.730550</td>\n",
       "    </tr>\n",
       "    <tr>\n",
       "      <th>10</th>\n",
       "      <td>17.456984</td>\n",
       "      <td>18.938306</td>\n",
       "    </tr>\n",
       "    <tr>\n",
       "      <th>11</th>\n",
       "      <td>16.210481</td>\n",
       "      <td>16.634254</td>\n",
       "    </tr>\n",
       "    <tr>\n",
       "      <th>12</th>\n",
       "      <td>16.161114</td>\n",
       "      <td>11.328820</td>\n",
       "    </tr>\n",
       "    <tr>\n",
       "      <th>13</th>\n",
       "      <td>11.100146</td>\n",
       "      <td>17.821086</td>\n",
       "    </tr>\n",
       "    <tr>\n",
       "      <th>14</th>\n",
       "      <td>11.312670</td>\n",
       "      <td>12.294023</td>\n",
       "    </tr>\n",
       "    <tr>\n",
       "      <th>15</th>\n",
       "      <td>17.168333</td>\n",
       "      <td>19.876406</td>\n",
       "    </tr>\n",
       "    <tr>\n",
       "      <th>16</th>\n",
       "      <td>19.034098</td>\n",
       "      <td>11.622804</td>\n",
       "    </tr>\n",
       "    <tr>\n",
       "      <th>17</th>\n",
       "      <td>16.523412</td>\n",
       "      <td>13.337517</td>\n",
       "    </tr>\n",
       "    <tr>\n",
       "      <th>18</th>\n",
       "      <td>17.286952</td>\n",
       "      <td>11.953653</td>\n",
       "    </tr>\n",
       "    <tr>\n",
       "      <th>19</th>\n",
       "      <td>10.363263</td>\n",
       "      <td>12.239709</td>\n",
       "    </tr>\n",
       "  </tbody>\n",
       "</table>\n",
       "</div>"
      ],
      "text/plain": [
       "            0          1\n",
       "0    1.827724   1.865160\n",
       "1    1.236853   1.138610\n",
       "2    1.608795   1.163853\n",
       "3    1.209080   1.924797\n",
       "4    1.897677   1.130945\n",
       "5    1.227030   1.612169\n",
       "6    1.233422   1.880208\n",
       "7    1.536948   1.081214\n",
       "8    1.627881   1.856679\n",
       "9    1.985797   1.730550\n",
       "10  17.456984  18.938306\n",
       "11  16.210481  16.634254\n",
       "12  16.161114  11.328820\n",
       "13  11.100146  17.821086\n",
       "14  11.312670  12.294023\n",
       "15  17.168333  19.876406\n",
       "16  19.034098  11.622804\n",
       "17  16.523412  13.337517\n",
       "18  17.286952  11.953653\n",
       "19  10.363263  12.239709"
      ]
     },
     "execution_count": 11,
     "metadata": {},
     "output_type": "execute_result"
    }
   ],
   "source": [
    "c1 = np.random.uniform(1, 2, (2, 10))\n",
    "c2 = np.random.uniform(10, 20, (2, 10))\n",
    "train_data = DataFrame(np.hstack((c1, c2)).T)\n",
    "train_data"
   ]
  },
  {
   "cell_type": "code",
   "execution_count": 12,
   "metadata": {
    "scrolled": false
   },
   "outputs": [
    {
     "data": {
      "image/png": "[encoded data removed]",
      "text/plain": [
       "<matplotlib.figure.Figure at 0x7f4cd714df60>"
      ]
     },
     "metadata": {},
     "output_type": "display_data"
    }
   ],
   "source": [
    "cost = get_k(train_data)"
   ]
  },
  {
   "cell_type": "code",
   "execution_count": 13,
   "metadata": {},
   "outputs": [
    {
     "name": "stdout",
     "output_type": "stream",
     "text": [
      "0簇质心已更新完毕\n",
      "1簇质心已更新完毕\n"
     ]
    }
   ],
   "source": [
    "position,cent = KmensAlgo(train_data,k=2,p=2)"
   ]
  },
  {
   "cell_type": "code",
   "execution_count": 14,
   "metadata": {},
   "outputs": [
    {
     "data": {
      "text/plain": [
       "[0, 0, 0, 0, 0, 0, 0, 0, 0, 0, 1, 1, 1, 1, 1, 1, 1, 1, 1, 1]"
      ]
     },
     "execution_count": 14,
     "metadata": {},
     "output_type": "execute_result"
    }
   ],
   "source": [
    "position"
   ]
  },
  {
   "cell_type": "code",
   "execution_count": 15,
   "metadata": {},
   "outputs": [
    {
     "data": {
      "text/plain": [
       "[array([1.5391208 , 1.53841869]), array([15.26174538, 14.60465772])]"
      ]
     },
     "execution_count": 15,
     "metadata": {},
     "output_type": "execute_result"
    }
   ],
   "source": [
    "cent"
   ]
  },
  {
   "cell_type": "code",
   "execution_count": 16,
   "metadata": {},
   "outputs": [],
   "source": [
    "test_df = DataFrame({'a':[1,2,3,20],'b':[3,4,5,18]})"
   ]
  },
  {
   "cell_type": "code",
   "execution_count": 17,
   "metadata": {},
   "outputs": [
    {
     "data": {
      "text/plain": [
       "[0, 0, 0, 1]"
      ]
     },
     "execution_count": 17,
     "metadata": {},
     "output_type": "execute_result"
    }
   ],
   "source": [
    "predit(test_df,cent)"
   ]
  },
  {
   "cell_type": "code",
   "execution_count": null,
   "metadata": {},
   "outputs": [],
   "source": []
  }
 ],
 "metadata": {
  "kernelspec": {
   "display_name": "Python 3",
   "language": "python",
   "name": "python3"
  },
  "language_info": {
   "codemirror_mode": {
    "name": "ipython",
    "version": 3
   },
   "file_extension": ".py",
   "mimetype": "text/x-python",
   "name": "python",
   "nbconvert_exporter": "python",
   "pygments_lexer": "ipython3",
   "version": "3.5.2"
  },
  "toc": {
   "nav_menu": {},
   "number_sections": true,
   "sideBar": true,
   "skip_h1_title": false,
   "toc_cell": false,
   "toc_position": {},
   "toc_section_display": "block",
   "toc_window_display": true
  }
 },
 "nbformat": 4,
 "nbformat_minor": 2
}
